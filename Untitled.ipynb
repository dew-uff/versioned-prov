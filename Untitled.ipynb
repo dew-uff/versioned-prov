{
 "cells": [
  {
   "cell_type": "code",
   "execution_count": 1,
   "metadata": {},
   "outputs": [],
   "source": [
    "%load_ext tools.prov_magics\n",
    "import tools.view.provn\n"
   ]
  },
  {
   "cell_type": "code",
   "execution_count": 3,
   "metadata": {},
   "outputs": [
    {
     "data": {
      "image/svg+xml": [
       "<svg height=\"116pt\" viewBox=\"0.00 0.00 82.00 116.00\" width=\"82pt\" xmlns=\"http://www.w3.org/2000/svg\" xmlns:xlink=\"http://www.w3.org/1999/xlink\">\n",
       "<g class=\"graph\" id=\"graph0\" transform=\"scale(1 1) rotate(0) translate(4 112)\">\n",
       "<title>PROV</title>\n",
       "<polygon fill=\"white\" points=\"-4,4 -4,-112 78,-112 78,4 -4,4\" stroke=\"none\"/>\n",
       "<!-- http://example.org/e1 -->\n",
       "<g class=\"node\" id=\"node1\"><title>http://example.org/e1</title>\n",
       "<g id=\"a_node1\"><a xlink:href=\"http://example.org/e1\" xlink:title=\"e1\">\n",
       "<ellipse cx=\"37\" cy=\"-90\" fill=\"#fffc87\" rx=\"27\" ry=\"18\" stroke=\"red\"/>\n",
       "<text font-family=\"Times New Roman,serif\" font-size=\"14.00\" text-anchor=\"middle\" x=\"37\" y=\"-86.3\">e1</text>\n",
       "</a>\n",
       "</g>\n",
       "</g>\n",
       "<!-- &#45;attrs0 -->\n",
       "<g class=\"node\" id=\"node2\"><title>-attrs0</title>\n",
       "<polygon fill=\"none\" points=\"68,-36 0,-36 0,-0 74,-0 74,-30 68,-36\" stroke=\"red\"/>\n",
       "<polyline fill=\"none\" points=\"68,-36 68,-30 \" stroke=\"red\"/>\n",
       "<polyline fill=\"none\" points=\"74,-30 68,-30 \" stroke=\"red\"/>\n",
       "<text font-family=\"Times New Roman,serif\" font-size=\"10.00\" text-anchor=\"start\" x=\"10\" y=\"-15\">type:</text>\n",
       "<text font-family=\"Times New Roman,serif\" font-size=\"10.00\" text-anchor=\"start\" x=\"33\" y=\"-15\">Version</text>\n",
       "</g>\n",
       "<!-- &#45;attrs0&#45;&gt;http://example.org/e1 -->\n",
       "<g class=\"edge\" id=\"edge1\"><title>-attrs0-&gt;http://example.org/e1</title>\n",
       "<path d=\"M37,-36.3034C37,-47.1537 37,-61.0833 37,-71.8957\" fill=\"none\" stroke=\"red\" stroke-dasharray=\"5,2\"/>\n",
       "</g>\n",
       "</g>\n",
       "</svg>"
      ],
      "text/plain": [
       "<IPython.core.display.SVG object>"
      ]
     },
     "execution_count": 3,
     "metadata": {},
     "output_type": "execute_result"
    }
   ],
   "source": [
    "%%provn -o temp -e svg -s dot\n",
    "entity(e1, [dot:color=\"red\", dot:hide=\"true\", type=\"Version\"])"
   ]
  },
  {
   "cell_type": "code",
   "execution_count": null,
   "metadata": {
    "collapsed": true
   },
   "outputs": [],
   "source": []
  }
 ],
 "metadata": {
  "kernelspec": {
   "display_name": "Python 3",
   "language": "python",
   "name": "python3"
  },
  "language_info": {
   "codemirror_mode": {
    "name": "ipython",
    "version": 3
   },
   "file_extension": ".py",
   "mimetype": "text/x-python",
   "name": "python",
   "nbconvert_exporter": "python",
   "pygments_lexer": "ipython3",
   "version": "3.6.1"
  },
  "toc": {
   "nav_menu": {},
   "number_sections": true,
   "sideBar": true,
   "skip_h1_title": false,
   "title_cell": "Table of Contents",
   "title_sidebar": "Contents",
   "toc_cell": false,
   "toc_position": {},
   "toc_section_display": true,
   "toc_window_display": false
  }
 },
 "nbformat": 4,
 "nbformat_minor": 2
}
