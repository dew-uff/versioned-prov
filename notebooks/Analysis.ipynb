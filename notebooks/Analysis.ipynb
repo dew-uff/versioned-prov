{
 "cells": [
  {
   "cell_type": "code",
   "execution_count": 1,
   "metadata": {
    "collapsed": true
   },
   "outputs": [],
   "source": [
    "import pandas as pd\n",
    "import json\n",
    "%matplotlib inline\n",
    "\n",
    "with open(\"../plain_prov/floydwarshall.json\", \"r\") as f:\n",
    "    prov = json.load(f)\n",
    "with open(\"../prov_dictionary/floydwarshall.json\", \"r\") as f:\n",
    "    prov_dictionary = json.load(f)\n",
    "with open(\"../mutable_prov/floydwarshall.json\", \"r\") as f:\n",
    "    mutable_prov = json.load(f)\n",
    "with open(\"../intertwined_prov/floydwarshall.json\", \"r\") as f:\n",
    "    intertwined_prov = json.load(f)\n",
    "with open(\"../versioned_prov/floydwarshall.json\", \"r\") as f:\n",
    "    versioned_prov = json.load(f)"
   ]
  },
  {
   "cell_type": "code",
   "execution_count": 2,
   "metadata": {},
   "outputs": [
    {
     "data": {
      "text/plain": [
       "{'accessed': 47,\n",
       " 'accessedPart': 134,\n",
       " 'activity': 211,\n",
       " 'defined': 37,\n",
       " 'derivedByInsertion': 8,\n",
       " 'entity': 218,\n",
       " 'used': 336,\n",
       " 'value': 43,\n",
       " 'wasDefinedBy': 37,\n",
       " 'wasDerivedFrom': 101,\n",
       " 'wasGeneratedBy': 210}"
      ]
     },
     "execution_count": 2,
     "metadata": {},
     "output_type": "execute_result"
    }
   ],
   "source": [
    "dict(mutable_prov)"
   ]
  },
  {
   "cell_type": "code",
   "execution_count": 3,
   "metadata": {
    "code_folding": [],
    "collapsed": true
   },
   "outputs": [],
   "source": [
    "\n",
    "order = [\n",
    "    'approach',\n",
    "    'entity', 'activity', 'value', \n",
    "    'used', 'wasDerivedFrom', 'wasGeneratedBy',\n",
    "    'hadMember', 'hadDictionaryMember', 'derivedByInsertionFrom',\n",
    "    'accessedPart', 'accessed', \n",
    "    'defined', 'wasDefinedBy', 'derivedByInsertion',\n",
    "    'referenceDerivedFrom', 'referenceDerivedFromAccess',\n",
    "]"
   ]
  },
  {
   "cell_type": "code",
   "execution_count": null,
   "metadata": {
    "collapsed": true
   },
   "outputs": [],
   "source": []
  },
  {
   "cell_type": "code",
   "execution_count": 4,
   "metadata": {},
   "outputs": [
    {
     "data": {
      "text/html": [
       "<div>\n",
       "<style>\n",
       "    .dataframe thead tr:only-child th {\n",
       "        text-align: right;\n",
       "    }\n",
       "\n",
       "    .dataframe thead th {\n",
       "        text-align: left;\n",
       "    }\n",
       "\n",
       "    .dataframe tbody tr th {\n",
       "        vertical-align: top;\n",
       "    }\n",
       "</style>\n",
       "<table border=\"1\" class=\"dataframe\">\n",
       "  <thead>\n",
       "    <tr style=\"text-align: right;\">\n",
       "      <th></th>\n",
       "      <th>approach</th>\n",
       "      <th>entity</th>\n",
       "      <th>activity</th>\n",
       "      <th>value</th>\n",
       "      <th>used</th>\n",
       "      <th>wasDerivedFrom</th>\n",
       "      <th>wasGeneratedBy</th>\n",
       "      <th>hadMember</th>\n",
       "      <th>hadDictionaryMember</th>\n",
       "      <th>derivedByInsertionFrom</th>\n",
       "      <th>accessedPart</th>\n",
       "      <th>accessed</th>\n",
       "      <th>defined</th>\n",
       "      <th>wasDefinedBy</th>\n",
       "      <th>derivedByInsertion</th>\n",
       "      <th>referenceDerivedFrom</th>\n",
       "      <th>referenceDerivedFromAccess</th>\n",
       "    </tr>\n",
       "  </thead>\n",
       "  <tbody>\n",
       "    <tr>\n",
       "      <th>0</th>\n",
       "      <td>PROV</td>\n",
       "      <td>242</td>\n",
       "      <td>212</td>\n",
       "      <td>0</td>\n",
       "      <td>488</td>\n",
       "      <td>244</td>\n",
       "      <td>232</td>\n",
       "      <td>126</td>\n",
       "      <td>0</td>\n",
       "      <td>0</td>\n",
       "      <td>0</td>\n",
       "      <td>0</td>\n",
       "      <td>0</td>\n",
       "      <td>0</td>\n",
       "      <td>0</td>\n",
       "      <td>0</td>\n",
       "      <td>0</td>\n",
       "    </tr>\n",
       "    <tr>\n",
       "      <th>1</th>\n",
       "      <td>PROV-Dictionary</td>\n",
       "      <td>275</td>\n",
       "      <td>212</td>\n",
       "      <td>0</td>\n",
       "      <td>488</td>\n",
       "      <td>244</td>\n",
       "      <td>232</td>\n",
       "      <td>0</td>\n",
       "      <td>0</td>\n",
       "      <td>42</td>\n",
       "      <td>0</td>\n",
       "      <td>0</td>\n",
       "      <td>0</td>\n",
       "      <td>0</td>\n",
       "      <td>0</td>\n",
       "      <td>0</td>\n",
       "      <td>0</td>\n",
       "    </tr>\n",
       "    <tr>\n",
       "      <th>2</th>\n",
       "      <td>Mutable-PROV</td>\n",
       "      <td>218</td>\n",
       "      <td>211</td>\n",
       "      <td>43</td>\n",
       "      <td>336</td>\n",
       "      <td>101</td>\n",
       "      <td>210</td>\n",
       "      <td>0</td>\n",
       "      <td>0</td>\n",
       "      <td>0</td>\n",
       "      <td>134</td>\n",
       "      <td>47</td>\n",
       "      <td>37</td>\n",
       "      <td>37</td>\n",
       "      <td>8</td>\n",
       "      <td>0</td>\n",
       "      <td>0</td>\n",
       "    </tr>\n",
       "    <tr>\n",
       "      <th>3</th>\n",
       "      <td>Intertwined-PROV</td>\n",
       "      <td>270</td>\n",
       "      <td>211</td>\n",
       "      <td>0</td>\n",
       "      <td>476</td>\n",
       "      <td>54</td>\n",
       "      <td>210</td>\n",
       "      <td>0</td>\n",
       "      <td>15</td>\n",
       "      <td>3</td>\n",
       "      <td>0</td>\n",
       "      <td>0</td>\n",
       "      <td>0</td>\n",
       "      <td>0</td>\n",
       "      <td>0</td>\n",
       "      <td>44</td>\n",
       "      <td>137</td>\n",
       "    </tr>\n",
       "    <tr>\n",
       "      <th>4</th>\n",
       "      <td>Versioned-PROV</td>\n",
       "      <td>224</td>\n",
       "      <td>211</td>\n",
       "      <td>0</td>\n",
       "      <td>476</td>\n",
       "      <td>54</td>\n",
       "      <td>210</td>\n",
       "      <td>0</td>\n",
       "      <td>0</td>\n",
       "      <td>0</td>\n",
       "      <td>0</td>\n",
       "      <td>0</td>\n",
       "      <td>0</td>\n",
       "      <td>0</td>\n",
       "      <td>8</td>\n",
       "      <td>44</td>\n",
       "      <td>137</td>\n",
       "    </tr>\n",
       "  </tbody>\n",
       "</table>\n",
       "</div>"
      ],
      "text/plain": [
       "           approach  entity  activity  value  used  wasDerivedFrom  \\\n",
       "0              PROV     242       212      0   488             244   \n",
       "1   PROV-Dictionary     275       212      0   488             244   \n",
       "2      Mutable-PROV     218       211     43   336             101   \n",
       "3  Intertwined-PROV     270       211      0   476              54   \n",
       "4    Versioned-PROV     224       211      0   476              54   \n",
       "\n",
       "   wasGeneratedBy  hadMember  hadDictionaryMember  derivedByInsertionFrom  \\\n",
       "0             232        126                    0                       0   \n",
       "1             232          0                    0                      42   \n",
       "2             210          0                    0                       0   \n",
       "3             210          0                   15                       3   \n",
       "4             210          0                    0                       0   \n",
       "\n",
       "   accessedPart  accessed  defined  wasDefinedBy  derivedByInsertion  \\\n",
       "0             0         0        0             0                   0   \n",
       "1             0         0        0             0                   0   \n",
       "2           134        47       37            37                   8   \n",
       "3             0         0        0             0                   0   \n",
       "4             0         0        0             0                   8   \n",
       "\n",
       "   referenceDerivedFrom  referenceDerivedFromAccess  \n",
       "0                     0                           0  \n",
       "1                     0                           0  \n",
       "2                     0                           0  \n",
       "3                    44                         137  \n",
       "4                    44                         137  "
      ]
     },
     "execution_count": 4,
     "metadata": {},
     "output_type": "execute_result"
    }
   ],
   "source": [
    "df = pd.DataFrame([\n",
    "    dict(**{'approach': 'PROV'}, **dict(prov)),\n",
    "    dict(**{'approach': 'PROV-Dictionary'}, **dict(prov_dictionary)),\n",
    "    dict(**{'approach': 'Mutable-PROV'}, **dict(mutable_prov)),\n",
    "    dict(**{'approach': 'Intertwined-PROV'}, **dict(intertwined_prov)),\n",
    "    dict(**{'approach': 'Versioned-PROV'}, **dict(versioned_prov)),\n",
    "\n",
    "], columns=order)\n",
    "\n",
    "df[order[1:]] = df[order[1:]].fillna(0.0).astype(int)\n",
    "df"
   ]
  },
  {
   "cell_type": "code",
   "execution_count": 5,
   "metadata": {},
   "outputs": [
    {
     "name": "stdout",
     "output_type": "stream",
     "text": [
      "Approach|entity|activity|value|used|was<br>Derived<br>From|was<br>Generated<br>By|had<br>Member|had<br>Dictionary<br>Member|derived<br>By<br>Insertion<br>From|accessed<br>Part|accessed|defined|was<br>Defined<br>By|derived<br>By<br>Insertion|reference<br>Derived<br>From|reference<br>Derived<br>From<br>Access\n",
      "---|---|---|---|---|---|---|---|---|---|---|---|---|---|---|---|---\n",
      "PROV|242|212|0|488|244|232|126|0|0|0|0|0|0|0|0|0\n",
      "PROV-Dictionary|275|212|0|488|244|232|0|0|42|0|0|0|0|0|0|0\n",
      "Mutable-PROV|218|211|43|336|101|210|0|0|0|134|47|37|37|8|0|0\n",
      "Intertwined-PROV|270|211|0|476|54|210|0|15|3|0|0|0|0|0|44|137\n",
      "Versioned-PROV|224|211|0|476|54|210|0|0|0|0|0|0|0|8|44|137\n",
      "\n"
     ]
    }
   ],
   "source": [
    "fmt = ['---' for i in range(len(df.columns))]\n",
    "df_fmt = pd.DataFrame([fmt], columns=df.columns)\n",
    "df_formatted = pd.concat([df_fmt, df])\n",
    "df_formatted.columns = [\n",
    "    'Approach',\n",
    "    'entity', 'activity', 'value', \n",
    "    'used', 'was<br>Derived<br>From', 'was<br>Generated<br>By',\n",
    "    'had<br>Member', 'had<br>Dictionary<br>Member', 'derived<br>By<br>Insertion<br>From',\n",
    "    'accessed<br>Part', 'accessed', \n",
    "    'defined', 'was<br>Defined<br>By', 'derived<br>By<br>Insertion',\n",
    "    'reference<br>Derived<br>From', 'reference<br>Derived<br>From<br>Access',\n",
    "]\n",
    "print(df_formatted.to_csv(sep=\"|\", index=False))\n",
    "    \n",
    "    "
   ]
  },
  {
   "cell_type": "code",
   "execution_count": 6,
   "metadata": {},
   "outputs": [
    {
     "data": {
      "image/png": "[encoded data removed]",
      "text/plain": [
       "<matplotlib.figure.Figure at 0x2774a414f98>"
      ]
     },
     "metadata": {},
     "output_type": "display_data"
    }
   ],
   "source": [
    "import matplotlib.pyplot as plt\n",
    "import numpy as np\n",
    "\n",
    "parts = len(order) - 1\n",
    "\n",
    "colors1 = plt.cm.GnBu(np.linspace(0.5, 1, 3))\n",
    "colors2 = plt.cm.Purples(np.linspace(0.2, 0.7, 3))\n",
    "colors3 = plt.cm.Reds(np.linspace(0.2, 0.7, parts - 3 - 3))\n",
    "\n",
    "\n",
    "# combine them and build a new colormap\n",
    "colors = np.vstack((colors1, colors2, colors3))\n",
    "#colors = plt.cm.GnBu(np.linspace(0, 1, 3))\n",
    "\n",
    "\n",
    "gdf = df.set_index([\"approach\"])\n",
    "f = plt.figure()\n",
    "ax = f.gca()\n",
    "gdf.plot(kind='bar', stacked=True, ax=ax, color=colors)\n",
    "lgd = plt.legend(loc='center left', bbox_to_anchor=(1.0, 0.5))\n",
    "ax.set_xlabel(\"\")\n",
    "ax.set_ylabel(\"Count\")\n",
    "plt.xticks(rotation=0)\n",
    "plt.savefig(\"../graphs/comparison.png\", bbox_extra_artists=(lgd,), bbox_inches='tight')\n",
    "plt.savefig(\"../graphs/comparison.svg\", bbox_extra_artists=(lgd,), bbox_inches='tight')\n",
    "plt.savefig(\"../graphs/comparison.pdf\", bbox_extra_artists=(lgd,), bbox_inches='tight')\n",
    "f.set_size_inches(10, 6)"
   ]
  },
  {
   "cell_type": "code",
   "execution_count": null,
   "metadata": {
    "collapsed": true
   },
   "outputs": [],
   "source": []
  }
 ],
 "metadata": {
  "kernelspec": {
   "display_name": "Python 3",
   "language": "python",
   "name": "python3"
  },
  "language_info": {
   "codemirror_mode": {
    "name": "ipython",
    "version": 3
   },
   "file_extension": ".py",
   "mimetype": "text/x-python",
   "name": "python",
   "nbconvert_exporter": "python",
   "pygments_lexer": "ipython3",
   "version": "3.6.1"
  },
  "toc": {
   "nav_menu": {},
   "number_sections": true,
   "sideBar": true,
   "skip_h1_title": false,
   "title_cell": "Table of Contents",
   "title_sidebar": "Contents",
   "toc_cell": false,
   "toc_position": {},
   "toc_section_display": "block",
   "toc_window_display": false
  }
 },
 "nbformat": 4,
 "nbformat_minor": 2
}
