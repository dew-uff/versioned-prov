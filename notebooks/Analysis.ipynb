{
 "cells": [
  {
   "cell_type": "code",
   "execution_count": 1,
   "metadata": {
    "collapsed": true
   },
   "outputs": [],
   "source": [
    "import pandas as pd\n",
    "import json\n",
    "%matplotlib inline\n",
    "\n",
    "with open(\"../generated/plain_prov/floydwarshall.json\", \"r\") as f:\n",
    "    prov = json.load(f)\n",
    "with open(\"../generated/prov_dictionary/floydwarshall.json\", \"r\") as f:\n",
    "    prov_dictionary = json.load(f)\n",
    "with open(\"../generated/mutable_prov/floydwarshall.json\", \"r\") as f:\n",
    "    mutable_prov = json.load(f)\n",
    "with open(\"../generated/intertwined_prov/floydwarshall.json\", \"r\") as f:\n",
    "    intertwined_prov = json.load(f)\n",
    "with open(\"../generated/versioned_prov/floydwarshall.json\", \"r\") as f:\n",
    "    versioned_prov = json.load(f)"
   ]
  },
  {
   "cell_type": "code",
   "execution_count": 2,
   "metadata": {
    "code_folding": [],
    "collapsed": true
   },
   "outputs": [],
   "source": [
    "order = [\n",
    "    'approach',\n",
    "    'entity', 'activity', 'value', \n",
    "    'used', 'wasDerivedFrom', 'wasGeneratedBy', 'specializationOf',\n",
    "    'hadMember', 'hadDictionaryMember', 'derivedByInsertionFrom',\n",
    "    'accessedPart', 'accessed', 'defined', 'wasDefinedBy', 'derivedByInsertion',\n",
    "]\n",
    "nodes = ['entity', 'activity', 'value']\n",
    "relationships = [x for x in order if x not in nodes and x != \"approach\"]"
   ]
  },
  {
   "cell_type": "code",
   "execution_count": 3,
   "metadata": {},
   "outputs": [
    {
     "data": {
      "text/html": [
       "<div>\n",
       "<style>\n",
       "    .dataframe thead tr:only-child th {\n",
       "        text-align: right;\n",
       "    }\n",
       "\n",
       "    .dataframe thead th {\n",
       "        text-align: left;\n",
       "    }\n",
       "\n",
       "    .dataframe tbody tr th {\n",
       "        vertical-align: top;\n",
       "    }\n",
       "</style>\n",
       "<table border=\"1\" class=\"dataframe\">\n",
       "  <thead>\n",
       "    <tr style=\"text-align: right;\">\n",
       "      <th></th>\n",
       "      <th>approach</th>\n",
       "      <th>entity</th>\n",
       "      <th>activity</th>\n",
       "      <th>value</th>\n",
       "      <th>used</th>\n",
       "      <th>wasDerivedFrom</th>\n",
       "      <th>wasGeneratedBy</th>\n",
       "      <th>specializationOf</th>\n",
       "      <th>hadMember</th>\n",
       "      <th>hadDictionaryMember</th>\n",
       "      <th>derivedByInsertionFrom</th>\n",
       "      <th>accessedPart</th>\n",
       "      <th>accessed</th>\n",
       "      <th>defined</th>\n",
       "      <th>wasDefinedBy</th>\n",
       "      <th>derivedByInsertion</th>\n",
       "    </tr>\n",
       "  </thead>\n",
       "  <tbody>\n",
       "    <tr>\n",
       "      <th>0</th>\n",
       "      <td>PROV</td>\n",
       "      <td>120</td>\n",
       "      <td>92</td>\n",
       "      <td>0</td>\n",
       "      <td>97</td>\n",
       "      <td>121</td>\n",
       "      <td>9</td>\n",
       "      <td>0</td>\n",
       "      <td>108</td>\n",
       "      <td>0</td>\n",
       "      <td>0</td>\n",
       "      <td>0</td>\n",
       "      <td>0</td>\n",
       "      <td>0</td>\n",
       "      <td>0</td>\n",
       "      <td>0</td>\n",
       "    </tr>\n",
       "    <tr>\n",
       "      <th>1</th>\n",
       "      <td>PROV-Dictionary</td>\n",
       "      <td>121</td>\n",
       "      <td>92</td>\n",
       "      <td>0</td>\n",
       "      <td>97</td>\n",
       "      <td>121</td>\n",
       "      <td>9</td>\n",
       "      <td>0</td>\n",
       "      <td>0</td>\n",
       "      <td>0</td>\n",
       "      <td>36</td>\n",
       "      <td>0</td>\n",
       "      <td>0</td>\n",
       "      <td>0</td>\n",
       "      <td>0</td>\n",
       "      <td>0</td>\n",
       "    </tr>\n",
       "    <tr>\n",
       "      <th>2</th>\n",
       "      <td>Mutable-PROV</td>\n",
       "      <td>96</td>\n",
       "      <td>91</td>\n",
       "      <td>20</td>\n",
       "      <td>94</td>\n",
       "      <td>35</td>\n",
       "      <td>61</td>\n",
       "      <td>0</td>\n",
       "      <td>0</td>\n",
       "      <td>0</td>\n",
       "      <td>0</td>\n",
       "      <td>59</td>\n",
       "      <td>23</td>\n",
       "      <td>14</td>\n",
       "      <td>14</td>\n",
       "      <td>8</td>\n",
       "    </tr>\n",
       "    <tr>\n",
       "      <th>3</th>\n",
       "      <td>Intertwined-PROV</td>\n",
       "      <td>176</td>\n",
       "      <td>136</td>\n",
       "      <td>0</td>\n",
       "      <td>154</td>\n",
       "      <td>145</td>\n",
       "      <td>2</td>\n",
       "      <td>29</td>\n",
       "      <td>0</td>\n",
       "      <td>15</td>\n",
       "      <td>3</td>\n",
       "      <td>0</td>\n",
       "      <td>0</td>\n",
       "      <td>0</td>\n",
       "      <td>0</td>\n",
       "      <td>0</td>\n",
       "    </tr>\n",
       "    <tr>\n",
       "      <th>4</th>\n",
       "      <td>Versioned-PROV</td>\n",
       "      <td>102</td>\n",
       "      <td>91</td>\n",
       "      <td>0</td>\n",
       "      <td>103</td>\n",
       "      <td>94</td>\n",
       "      <td>5</td>\n",
       "      <td>0</td>\n",
       "      <td>18</td>\n",
       "      <td>0</td>\n",
       "      <td>0</td>\n",
       "      <td>0</td>\n",
       "      <td>0</td>\n",
       "      <td>0</td>\n",
       "      <td>0</td>\n",
       "      <td>0</td>\n",
       "    </tr>\n",
       "  </tbody>\n",
       "</table>\n",
       "</div>"
      ],
      "text/plain": [
       "           approach  entity  activity  value  used  wasDerivedFrom  \\\n",
       "0              PROV     120        92      0    97             121   \n",
       "1   PROV-Dictionary     121        92      0    97             121   \n",
       "2      Mutable-PROV      96        91     20    94              35   \n",
       "3  Intertwined-PROV     176       136      0   154             145   \n",
       "4    Versioned-PROV     102        91      0   103              94   \n",
       "\n",
       "   wasGeneratedBy  specializationOf  hadMember  hadDictionaryMember  \\\n",
       "0               9                 0        108                    0   \n",
       "1               9                 0          0                    0   \n",
       "2              61                 0          0                    0   \n",
       "3               2                29          0                   15   \n",
       "4               5                 0         18                    0   \n",
       "\n",
       "   derivedByInsertionFrom  accessedPart  accessed  defined  wasDefinedBy  \\\n",
       "0                       0             0         0        0             0   \n",
       "1                      36             0         0        0             0   \n",
       "2                       0            59        23       14            14   \n",
       "3                       3             0         0        0             0   \n",
       "4                       0             0         0        0             0   \n",
       "\n",
       "   derivedByInsertion  \n",
       "0                   0  \n",
       "1                   0  \n",
       "2                   8  \n",
       "3                   0  \n",
       "4                   0  "
      ]
     },
     "execution_count": 3,
     "metadata": {},
     "output_type": "execute_result"
    }
   ],
   "source": [
    "df = pd.DataFrame([\n",
    "    dict(**{'approach': 'PROV'}, **dict(prov[\"all\"][\"global\"])),\n",
    "    dict(**{'approach': 'PROV-Dictionary'}, **dict(prov_dictionary[\"all\"][\"global\"])),\n",
    "    dict(**{'approach': 'Mutable-PROV'}, **dict(mutable_prov[\"all\"][\"global\"])),\n",
    "    dict(**{'approach': 'Intertwined-PROV'}, **dict(intertwined_prov[\"all\"][\"global\"])),\n",
    "    dict(**{'approach': 'Versioned-PROV'}, **dict(versioned_prov[\"all\"][\"global\"])),\n",
    "\n",
    "], columns=order)\n",
    "\n",
    "df[order[1:]] = df[order[1:]].fillna(0.0).astype(int)\n",
    "df"
   ]
  },
  {
   "cell_type": "code",
   "execution_count": 4,
   "metadata": {},
   "outputs": [
    {
     "data": {
      "text/html": [
       "<div>\n",
       "<style>\n",
       "    .dataframe thead tr:only-child th {\n",
       "        text-align: right;\n",
       "    }\n",
       "\n",
       "    .dataframe thead th {\n",
       "        text-align: left;\n",
       "    }\n",
       "\n",
       "    .dataframe tbody tr th {\n",
       "        vertical-align: top;\n",
       "    }\n",
       "</style>\n",
       "<table border=\"1\" class=\"dataframe\">\n",
       "  <thead>\n",
       "    <tr style=\"text-align: right;\">\n",
       "      <th></th>\n",
       "      <th>approach</th>\n",
       "      <th>entity</th>\n",
       "      <th>activity</th>\n",
       "      <th>used</th>\n",
       "      <th>wasDerivedFrom</th>\n",
       "      <th>wasGeneratedBy</th>\n",
       "      <th>hadMember</th>\n",
       "      <th>derivedByInsertionFrom</th>\n",
       "    </tr>\n",
       "  </thead>\n",
       "  <tbody>\n",
       "    <tr>\n",
       "      <th>0</th>\n",
       "      <td>PROV</td>\n",
       "      <td>120</td>\n",
       "      <td>92</td>\n",
       "      <td>97</td>\n",
       "      <td>121</td>\n",
       "      <td>9</td>\n",
       "      <td>108</td>\n",
       "      <td>0</td>\n",
       "    </tr>\n",
       "    <tr>\n",
       "      <th>1</th>\n",
       "      <td>PROV-Dictionary</td>\n",
       "      <td>121</td>\n",
       "      <td>92</td>\n",
       "      <td>97</td>\n",
       "      <td>121</td>\n",
       "      <td>9</td>\n",
       "      <td>0</td>\n",
       "      <td>36</td>\n",
       "    </tr>\n",
       "    <tr>\n",
       "      <th>4</th>\n",
       "      <td>Versioned-PROV</td>\n",
       "      <td>102</td>\n",
       "      <td>91</td>\n",
       "      <td>103</td>\n",
       "      <td>94</td>\n",
       "      <td>5</td>\n",
       "      <td>18</td>\n",
       "      <td>0</td>\n",
       "    </tr>\n",
       "  </tbody>\n",
       "</table>\n",
       "</div>"
      ],
      "text/plain": [
       "          approach  entity  activity  used  wasDerivedFrom  wasGeneratedBy  \\\n",
       "0             PROV     120        92    97             121               9   \n",
       "1  PROV-Dictionary     121        92    97             121               9   \n",
       "4   Versioned-PROV     102        91   103              94               5   \n",
       "\n",
       "   hadMember  derivedByInsertionFrom  \n",
       "0        108                       0  \n",
       "1          0                      36  \n",
       "4         18                       0  "
      ]
     },
     "execution_count": 4,
     "metadata": {},
     "output_type": "execute_result"
    }
   ],
   "source": [
    "df = df.drop([\n",
    "    'value', 'accessed', 'accessedPart', 'defined', \n",
    "    'wasDefinedBy', 'derivedByInsertion', 'hadDictionaryMember', \n",
    "    'specializationOf'\n",
    "], axis=1).drop([2, 3])\n",
    "df"
   ]
  },
  {
   "cell_type": "code",
   "execution_count": 5,
   "metadata": {
    "collapsed": true
   },
   "outputs": [],
   "source": [
    "fmt = ['---' for i in range(len(df.columns))]\n",
    "df_fmt = pd.DataFrame([fmt], columns=df.columns)\n",
    "df_formatted = pd.concat([df_fmt, df])\n",
    "df_formatted.columns = [\n",
    "    'Approach',\n",
    "    'entity', 'activity',\n",
    "    #'value', \n",
    "    'used', 'was<br>Derived<br>From', 'was<br>Generated<br>By',\n",
    "    #'specialization<br>Of',\n",
    "    'had<br>Member', \n",
    "    #'had<br>Dictionary<br>Member',\n",
    "    'derived<br>By<br>Insertion<br>From',\n",
    "    #'accessed<br>Part', 'accessed', 'defined', 'was<br>Defined<br>By', 'derived<br>By<br>Insertion',\n",
    "]\n",
    "with open(\"../generated/table.md\", \"w\") as f:\n",
    "    f.write(df_formatted.to_csv(sep=\"|\", index=False))"
   ]
  },
  {
   "cell_type": "code",
   "execution_count": 6,
   "metadata": {
    "collapsed": true
   },
   "outputs": [],
   "source": [
    "df['nodes'] = sum(df[x] for x in nodes if x in df.columns)\n",
    "df['edges'] = sum(df[x] for x in relationships if x in df.columns)"
   ]
  },
  {
   "cell_type": "code",
   "execution_count": null,
   "metadata": {
    "collapsed": true
   },
   "outputs": [],
   "source": []
  },
  {
   "cell_type": "code",
   "execution_count": 7,
   "metadata": {},
   "outputs": [
    {
     "data": {
      "image/png": "[encoded data removed]",
      "text/plain": [
       "<Figure size 720x432 with 1 Axes>"
      ]
     },
     "metadata": {},
     "output_type": "display_data"
    }
   ],
   "source": [
    "import matplotlib.pyplot as plt\n",
    "import numpy as np\n",
    "\n",
    "parts = len(order) - 1\n",
    "\n",
    "colors1 = plt.cm.GnBu(np.linspace(0.5, 1, 2))\n",
    "colors2 = plt.cm.Purples(np.linspace(0.2, 0.7, 3))\n",
    "colors3 = plt.cm.Reds(np.linspace(0.2, 0.7, parts - 3 - 3))\n",
    "\n",
    "\n",
    "# combine them and build a new colormap\n",
    "colors = np.vstack((colors1, colors2, colors3))\n",
    "#colors = plt.cm.GnBu(np.linspace(0, 1, 3))\n",
    "\n",
    "\n",
    "gdf = df.set_index([\"approach\"])[df.columns[1:-2]]\n",
    "f = plt.figure()\n",
    "ax = f.gca()\n",
    "gdf.plot(kind='bar', stacked=True, ax=ax, color=colors)\n",
    "lgd = plt.legend(loc='center left', bbox_to_anchor=(1.0, 0.5))\n",
    "ax.set_xlabel(\"\")\n",
    "ax.set_ylabel(\"Count\")\n",
    "plt.xticks(rotation=0)\n",
    "f.set_size_inches(10, 6)\n",
    "plt.savefig(\"../generated/graphs/comparison.png\", bbox_extra_artists=(lgd,), bbox_inches='tight')\n",
    "plt.savefig(\"../generated/graphs/comparison.svg\", bbox_extra_artists=(lgd,), bbox_inches='tight')\n",
    "plt.savefig(\"../generated/graphs/comparison.pdf\", bbox_extra_artists=(lgd,), bbox_inches='tight')\n"
   ]
  },
  {
   "cell_type": "markdown",
   "metadata": {},
   "source": [
    "## Approach Based - Analysis"
   ]
  },
  {
   "cell_type": "code",
   "execution_count": 8,
   "metadata": {},
   "outputs": [
    {
     "data": {
      "text/plain": [
       "Index(['approach', 'entity', 'activity', 'used', 'wasDerivedFrom',\n",
       "       'wasGeneratedBy', 'hadMember', 'derivedByInsertionFrom', 'nodes',\n",
       "       'edges'],\n",
       "      dtype='object')"
      ]
     },
     "execution_count": 8,
     "metadata": {},
     "output_type": "execute_result"
    }
   ],
   "source": [
    "df.columns"
   ]
  },
  {
   "cell_type": "code",
   "execution_count": 9,
   "metadata": {
    "collapsed": true
   },
   "outputs": [],
   "source": [
    "sdf = pd.DataFrame([\n",
    "    dict(**{'approach': 'PROV'}, **dict(prov[\"specific\"][\"global\"])),\n",
    "    dict(**{'approach': 'PROV-Dictionary'}, **dict(prov_dictionary[\"specific\"][\"global\"])),\n",
    "    #dict(**{'approach': 'Mutable-PROV'}, **dict(mutable_prov[\"all\"][\"global\"])),\n",
    "    #dict(**{'approach': 'Intertwined-PROV'}, **dict(intertwined_prov[\"all\"][\"global\"])),\n",
    "    dict(**{'approach': 'Versioned-PROV'}, **dict(versioned_prov[\"specific\"][\"global\"])),\n",
    "\n",
    "], columns=df.columns)\n",
    "\n",
    "sdf[df.columns[1:]] = sdf[df.columns[1:]].fillna(0.0).astype(int)\n",
    "sdf['nodes'] = sum(sdf[x] for x in nodes if x in sdf.columns)\n",
    "sdf['edges'] = sum(sdf[x] for x in relationships if x in sdf.columns)\n",
    "sdf = sdf.set_index([\"approach\"]).rename(index={\n",
    "    \"PROV\": \"Plain\",\n",
    "    \"PROV-Dictionary\": \"Dict\",\n",
    "    \"Versioned-PROV\": \"Ver\",\n",
    "    \"Mutable-PROV\": \"M\",\n",
    "    \"Intertwined-PROV\": \"I\",\n",
    "})\n"
   ]
  },
  {
   "cell_type": "code",
   "execution_count": 10,
   "metadata": {
    "collapsed": true
   },
   "outputs": [],
   "source": [
    "gdf = (\n",
    "    df.set_index([\"approach\"])\n",
    "    #.drop(['Mutable-PROV', 'Intertwined-PROV'])\n",
    "    .rename(index={\n",
    "        \"PROV\": \"Plain\",\n",
    "        \"PROV-Dictionary\": \"Dict\",\n",
    "        \"Versioned-PROV\": \"Ver\",\n",
    "        \"Mutable-PROV\": \"M\",\n",
    "        \"Intertwined-PROV\": \"I\",\n",
    "    })\n",
    ")"
   ]
  },
  {
   "cell_type": "code",
   "execution_count": 11,
   "metadata": {},
   "outputs": [
    {
     "data": {
      "image/png": "[encoded data removed]",
      "text/plain": [
       "<Figure size 345.6x180 with 3 Axes>"
      ]
     },
     "metadata": {},
     "output_type": "display_data"
    }
   ],
   "source": [
    "def plot_comparison(gdf, name):\n",
    "\n",
    "    from collections import Counter\n",
    "    import matplotlib.patches as mpatches\n",
    "    def annotate(ax):\n",
    "        w2 = ax.containers[0].get_children()[0].get_width() / 2.0\n",
    "        c = Counter()\n",
    "        for p in ax.patches:\n",
    "            c[p.get_x()] += int(p.get_height())\n",
    "\n",
    "        for key, value in c.items():\n",
    "            ax.text(\n",
    "                key + w2, value * 1.05, str(value), ha='center'\n",
    "            )\n",
    "        ax.yaxis.set_ticklabels([])\n",
    "\n",
    "        ax.spines['top'].set_visible(False)\n",
    "        ax.spines['right'].set_visible(False)\n",
    "        #ax.spines['bottom'].set_visible(False)\n",
    "        ax.spines['left'].set_visible(False)\n",
    "        ax.tick_params(top=False, bottom=False, left=False, right=False, labelleft=False, labelbottom=True)\n",
    "\n",
    "    colors = plt.cm.GnBu(np.linspace(0.5, 1, 3))\n",
    "\n",
    "    f, (ax1, ax2, ax3) = plt.subplots(1, 3, sharey=False)\n",
    "\n",
    "    gdf[\"nodes\"].plot(kind='bar', color=colors[0], ax=ax1, rot=0)\n",
    "    ax1.set_xlabel(\"(Nodes)\")\n",
    "    ax1.set_ylabel(\"Count\")\n",
    "    annotate(ax1)\n",
    "\n",
    "    gdf[\"edges\"].plot(kind='bar', color=colors[1], ax=ax2, rot=0)\n",
    "    ax2.set_xlabel(\"(Edges)\")\n",
    "    ax2.set_ylabel(\"\")\n",
    "    annotate(ax2)\n",
    "\n",
    "    sdf = gdf[[\"nodes\", \"edges\"]]\n",
    "    sdf.plot(kind='bar', stacked=True, ax=ax3, color=colors)\n",
    "    ax3.set_xlabel(\"(Both)\")\n",
    "    ax3.set_ylabel(\"\")\n",
    "    ax3.legend().set_visible(False)\n",
    "    annotate(ax3)\n",
    "\n",
    "\n",
    "    lnodes = mpatches.Patch(color=colors[0], label='Nodes')\n",
    "    lrelationships = mpatches.Patch(color=colors[1], label='Edges')\n",
    "\n",
    "\n",
    "    #handles, labels = ax3.get_legend_handles_labels()\n",
    "    lgd = ax2.legend(\n",
    "        handles=[lnodes, lrelationships],\n",
    "        loc='center', ncol=2,\n",
    "        bbox_to_anchor=(0.5, 1.15))\n",
    "\n",
    "\n",
    "    plt.xticks(rotation=0)\n",
    "    f.set_size_inches(4.8, 2.5)\n",
    "    plt.savefig(name + \".png\", bbox_extra_artists=(lgd,), bbox_inches='tight')\n",
    "    plt.savefig(name + \".svg\", bbox_extra_artists=(lgd,), bbox_inches='tight')\n",
    "    plt.savefig(name + \".pdf\", bbox_extra_artists=(lgd,), bbox_inches='tight')\n",
    "    \n",
    "plot_comparison(gdf, \"../generated/graphs/paper_comparison\")"
   ]
  },
  {
   "cell_type": "code",
   "execution_count": 12,
   "metadata": {},
   "outputs": [
    {
     "data": {
      "image/png": "[encoded data removed]",
      "text/plain": [
       "<Figure size 345.6x180 with 3 Axes>"
      ]
     },
     "metadata": {},
     "output_type": "display_data"
    }
   ],
   "source": [
    "plot_comparison(sdf, \"../generated/graphs/specific_comparison\")"
   ]
  },
  {
   "cell_type": "code",
   "execution_count": 13,
   "metadata": {
    "collapsed": true
   },
   "outputs": [],
   "source": [
    "s_statements = sdf[\"edges\"] + sdf[\"nodes\"]\n",
    "g_statements = gdf[\"edges\"] + gdf[\"nodes\"]\n"
   ]
  },
  {
   "cell_type": "code",
   "execution_count": 14,
   "metadata": {},
   "outputs": [
    {
     "data": {
      "text/plain": [
       "7.5238095238095237"
      ]
     },
     "execution_count": 14,
     "metadata": {},
     "output_type": "execute_result"
    }
   ],
   "source": [
    "s_statements[\"Plain\"] / s_statements[\"Ver\"]"
   ]
  },
  {
   "cell_type": "code",
   "execution_count": 15,
   "metadata": {},
   "outputs": [
    {
     "data": {
      "text/plain": [
       "4.1428571428571432"
      ]
     },
     "execution_count": 15,
     "metadata": {},
     "output_type": "execute_result"
    }
   ],
   "source": [
    "s_statements[\"Dict\"] / s_statements[\"Ver\"]"
   ]
  },
  {
   "cell_type": "code",
   "execution_count": 16,
   "metadata": {},
   "outputs": [
    {
     "data": {
      "text/plain": [
       "approach\n",
       "Plain    0.288848\n",
       "Dict     0.182773\n",
       "Ver      0.050847\n",
       "dtype: float64"
      ]
     },
     "execution_count": 16,
     "metadata": {},
     "output_type": "execute_result"
    }
   ],
   "source": [
    "(s_statements) / (g_statements)"
   ]
  },
  {
   "cell_type": "code",
   "execution_count": null,
   "metadata": {
    "collapsed": true
   },
   "outputs": [],
   "source": []
  },
  {
   "cell_type": "code",
   "execution_count": null,
   "metadata": {
    "collapsed": true
   },
   "outputs": [],
   "source": []
  }
 ],
 "metadata": {
  "kernelspec": {
   "display_name": "Python 3",
   "language": "python",
   "name": "python3"
  },
  "language_info": {
   "codemirror_mode": {
    "name": "ipython",
    "version": 3
   },
   "file_extension": ".py",
   "mimetype": "text/x-python",
   "name": "python",
   "nbconvert_exporter": "python",
   "pygments_lexer": "ipython3",
   "version": "3.6.1"
  },
  "toc": {
   "nav_menu": {},
   "number_sections": true,
   "sideBar": true,
   "skip_h1_title": false,
   "title_cell": "Table of Contents",
   "title_sidebar": "Contents",
   "toc_cell": false,
   "toc_position": {},
   "toc_section_display": "block",
   "toc_window_display": false
  }
 },
 "nbformat": 4,
 "nbformat_minor": 2
}
