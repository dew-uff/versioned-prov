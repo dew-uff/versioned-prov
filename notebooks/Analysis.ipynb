{
 "cells": [
  {
   "cell_type": "code",
   "execution_count": 1,
   "metadata": {
    "collapsed": true
   },
   "outputs": [],
   "source": [
    "import pandas as pd\n",
    "import json\n",
    "%matplotlib inline\n",
    "\n",
    "with open(\"../plain_prov/floydwarshall.json\", \"r\") as f:\n",
    "    prov = json.load(f)\n",
    "with open(\"../prov_dictionary/floydwarshall.json\", \"r\") as f:\n",
    "    prov_dictionary = json.load(f)\n",
    "with open(\"../mutable_prov/floydwarshall.json\", \"r\") as f:\n",
    "    mutable_prov = json.load(f)\n",
    "    \n"
   ]
  },
  {
   "cell_type": "code",
   "execution_count": 2,
   "metadata": {},
   "outputs": [
    {
     "data": {
      "text/plain": [
       "{'accessed': 47,\n",
       " 'accessedPart': 134,\n",
       " 'activity': 211,\n",
       " 'defined': 35,\n",
       " 'derivedByInsertion': 8,\n",
       " 'entity': 216,\n",
       " 'used': 336,\n",
       " 'value': 41,\n",
       " 'wasDefinedBy': 35,\n",
       " 'wasDerivedFrom': 101,\n",
       " 'wasGeneratedBy': 210}"
      ]
     },
     "execution_count": 2,
     "metadata": {},
     "output_type": "execute_result"
    }
   ],
   "source": [
    "dict(mutable_prov)"
   ]
  },
  {
   "cell_type": "code",
   "execution_count": 3,
   "metadata": {
    "code_folding": [],
    "collapsed": true
   },
   "outputs": [],
   "source": [
    "\n",
    "order = [\n",
    "    'approach',\n",
    "    'entity', 'activity', 'value', \n",
    "    'used', 'wasDerivedFrom', 'wasGeneratedBy',\n",
    "    'hadMember', 'derivedByInsertionFrom',\n",
    "    'accessedPart', 'accessed', \n",
    "    'defined', 'wasDefinedBy', 'derivedByInsertion'\n",
    "]"
   ]
  },
  {
   "cell_type": "code",
   "execution_count": null,
   "metadata": {
    "collapsed": true
   },
   "outputs": [],
   "source": []
  },
  {
   "cell_type": "code",
   "execution_count": 4,
   "metadata": {},
   "outputs": [
    {
     "data": {
      "text/html": [
       "<div>\n",
       "<style>\n",
       "    .dataframe thead tr:only-child th {\n",
       "        text-align: right;\n",
       "    }\n",
       "\n",
       "    .dataframe thead th {\n",
       "        text-align: left;\n",
       "    }\n",
       "\n",
       "    .dataframe tbody tr th {\n",
       "        vertical-align: top;\n",
       "    }\n",
       "</style>\n",
       "<table border=\"1\" class=\"dataframe\">\n",
       "  <thead>\n",
       "    <tr style=\"text-align: right;\">\n",
       "      <th></th>\n",
       "      <th>approach</th>\n",
       "      <th>entity</th>\n",
       "      <th>activity</th>\n",
       "      <th>value</th>\n",
       "      <th>used</th>\n",
       "      <th>wasDerivedFrom</th>\n",
       "      <th>wasGeneratedBy</th>\n",
       "      <th>hadMember</th>\n",
       "      <th>derivedByInsertionFrom</th>\n",
       "      <th>accessedPart</th>\n",
       "      <th>accessed</th>\n",
       "      <th>defined</th>\n",
       "      <th>wasDefinedBy</th>\n",
       "      <th>derivedByInsertion</th>\n",
       "    </tr>\n",
       "  </thead>\n",
       "  <tbody>\n",
       "    <tr>\n",
       "      <th>0</th>\n",
       "      <td>PROV</td>\n",
       "      <td>242</td>\n",
       "      <td>212</td>\n",
       "      <td>0</td>\n",
       "      <td>488</td>\n",
       "      <td>244</td>\n",
       "      <td>232</td>\n",
       "      <td>126</td>\n",
       "      <td>0</td>\n",
       "      <td>0</td>\n",
       "      <td>0</td>\n",
       "      <td>0</td>\n",
       "      <td>0</td>\n",
       "      <td>0</td>\n",
       "    </tr>\n",
       "    <tr>\n",
       "      <th>1</th>\n",
       "      <td>PROV-Dictionary</td>\n",
       "      <td>276</td>\n",
       "      <td>212</td>\n",
       "      <td>0</td>\n",
       "      <td>491</td>\n",
       "      <td>244</td>\n",
       "      <td>235</td>\n",
       "      <td>0</td>\n",
       "      <td>45</td>\n",
       "      <td>0</td>\n",
       "      <td>0</td>\n",
       "      <td>0</td>\n",
       "      <td>0</td>\n",
       "      <td>0</td>\n",
       "    </tr>\n",
       "    <tr>\n",
       "      <th>2</th>\n",
       "      <td>Mutable-PROV</td>\n",
       "      <td>216</td>\n",
       "      <td>211</td>\n",
       "      <td>41</td>\n",
       "      <td>336</td>\n",
       "      <td>101</td>\n",
       "      <td>210</td>\n",
       "      <td>0</td>\n",
       "      <td>0</td>\n",
       "      <td>134</td>\n",
       "      <td>47</td>\n",
       "      <td>35</td>\n",
       "      <td>35</td>\n",
       "      <td>8</td>\n",
       "    </tr>\n",
       "  </tbody>\n",
       "</table>\n",
       "</div>"
      ],
      "text/plain": [
       "          approach  entity  activity  value  used  wasDerivedFrom  \\\n",
       "0             PROV     242       212      0   488             244   \n",
       "1  PROV-Dictionary     276       212      0   491             244   \n",
       "2     Mutable-PROV     216       211     41   336             101   \n",
       "\n",
       "   wasGeneratedBy  hadMember  derivedByInsertionFrom  accessedPart  accessed  \\\n",
       "0             232        126                       0             0         0   \n",
       "1             235          0                      45             0         0   \n",
       "2             210          0                       0           134        47   \n",
       "\n",
       "   defined  wasDefinedBy  derivedByInsertion  \n",
       "0        0             0                   0  \n",
       "1        0             0                   0  \n",
       "2       35            35                   8  "
      ]
     },
     "execution_count": 4,
     "metadata": {},
     "output_type": "execute_result"
    }
   ],
   "source": [
    "df = pd.DataFrame([\n",
    "    dict(**{'approach': 'PROV'}, **dict(prov)),\n",
    "    dict(**{'approach': 'PROV-Dictionary'}, **dict(prov_dictionary)),\n",
    "    dict(**{'approach': 'Mutable-PROV'}, **dict(mutable_prov))\n",
    "], columns=order)\n",
    "\n",
    "df[order[1:]] = df[order[1:]].fillna(0.0).astype(int)\n",
    "df"
   ]
  },
  {
   "cell_type": "code",
   "execution_count": 5,
   "metadata": {},
   "outputs": [
    {
     "name": "stdout",
     "output_type": "stream",
     "text": [
      "Approach|entity|activity|value|used|was<br>Derived<br>From|was<br>Generated<br>By|had<br>Member|derived<br>By<br>Insertion<br>From|accessed<br>Part|accessed|defined|was<br>Defined<br>By|derived<br>By<br>Insertion\n",
      "---|---|---|---|---|---|---|---|---|---|---|---|---|---\n",
      "PROV|242|212|0|488|244|232|126|0|0|0|0|0|0\n",
      "PROV-Dictionary|276|212|0|491|244|235|0|45|0|0|0|0|0\n",
      "Mutable-PROV|216|211|41|336|101|210|0|0|134|47|35|35|8\n",
      "\n"
     ]
    }
   ],
   "source": [
    "fmt = ['---' for i in range(len(df.columns))]\n",
    "df_fmt = pd.DataFrame([fmt], columns=df.columns)\n",
    "df_formatted = pd.concat([df_fmt, df])\n",
    "df_formatted.columns = [\n",
    "    'Approach',\n",
    "    'entity', 'activity', 'value', \n",
    "    'used', 'was<br>Derived<br>From', 'was<br>Generated<br>By',\n",
    "    'had<br>Member', 'derived<br>By<br>Insertion<br>From',\n",
    "    'accessed<br>Part', 'accessed', \n",
    "    'defined', 'was<br>Defined<br>By', 'derived<br>By<br>Insertion'\n",
    "]\n",
    "print(df_formatted.to_csv(sep=\"|\", index=False))\n",
    "    \n",
    "    "
   ]
  },
  {
   "cell_type": "code",
   "execution_count": 6,
   "metadata": {},
   "outputs": [
    {
     "data": {
      "image/png": "[encoded data removed]",
      "text/plain": [
       "<matplotlib.figure.Figure at 0x1be7fa8e7f0>"
      ]
     },
     "metadata": {},
     "output_type": "display_data"
    }
   ],
   "source": [
    "import matplotlib.pyplot as plt\n",
    "import numpy as np\n",
    "\n",
    "parts = len(order) - 1\n",
    "\n",
    "colors1 = plt.cm.GnBu(np.linspace(0.5, 1, 3))\n",
    "colors2 = plt.cm.Purples(np.linspace(0.2, 0.7, 3))\n",
    "colors3 = plt.cm.Reds(np.linspace(0.2, 0.7, parts - 3 - 3))\n",
    "\n",
    "\n",
    "# combine them and build a new colormap\n",
    "colors = np.vstack((colors1, colors2, colors3))\n",
    "#colors = plt.cm.GnBu(np.linspace(0, 1, 3))\n",
    "\n",
    "\n",
    "gdf = df.set_index([\"approach\"])\n",
    "f = plt.figure()\n",
    "ax = f.gca()\n",
    "gdf.plot(kind='bar', stacked=True, ax=ax, color=colors)\n",
    "lgd = plt.legend(loc='center left', bbox_to_anchor=(1.0, 0.5))\n",
    "ax.set_xlabel(\"\")\n",
    "ax.set_ylabel(\"Count\")\n",
    "plt.xticks(rotation=0)\n",
    "plt.savefig(\"../graphs/comparison.png\", bbox_extra_artists=(lgd,), bbox_inches='tight')\n",
    "plt.savefig(\"../graphs/comparison.svg\", bbox_extra_artists=(lgd,), bbox_inches='tight')\n",
    "plt.savefig(\"../graphs/comparison.pdf\", bbox_extra_artists=(lgd,), bbox_inches='tight')"
   ]
  },
  {
   "cell_type": "code",
   "execution_count": null,
   "metadata": {
    "collapsed": true
   },
   "outputs": [],
   "source": []
  }
 ],
 "metadata": {
  "kernelspec": {
   "display_name": "Python 3",
   "language": "python",
   "name": "python3"
  },
  "language_info": {
   "codemirror_mode": {
    "name": "ipython",
    "version": 3
   },
   "file_extension": ".py",
   "mimetype": "text/x-python",
   "name": "python",
   "nbconvert_exporter": "python",
   "pygments_lexer": "ipython3",
   "version": "3.6.1"
  },
  "toc": {
   "nav_menu": {},
   "number_sections": true,
   "sideBar": true,
   "skip_h1_title": false,
   "title_cell": "Table of Contents",
   "title_sidebar": "Contents",
   "toc_cell": false,
   "toc_position": {},
   "toc_section_display": "block",
   "toc_window_display": false
  }
 },
 "nbformat": 4,
 "nbformat_minor": 2
}
