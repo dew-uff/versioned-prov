{
 "cells": [
  {
   "cell_type": "code",
   "execution_count": 1,
   "metadata": {
    "collapsed": true
   },
   "outputs": [],
   "source": [
    "import pandas as pd\n",
    "import json\n",
    "%matplotlib inline\n",
    "\n",
    "with open(\"../images/plain_prov/floydwarshall.json\", \"r\") as f:\n",
    "    prov = json.load(f)\n",
    "with open(\"../images/prov_dictionary/floydwarshall.json\", \"r\") as f:\n",
    "    prov_dictionary = json.load(f)\n",
    "with open(\"../images/mutable_prov/floydwarshall.json\", \"r\") as f:\n",
    "    mutable_prov = json.load(f)\n",
    "with open(\"../images/intertwined_prov/floydwarshall.json\", \"r\") as f:\n",
    "    intertwined_prov = json.load(f)\n",
    "with open(\"../images/versioned_prov/floydwarshall.json\", \"r\") as f:\n",
    "    versioned_prov = json.load(f)"
   ]
  },
  {
   "cell_type": "code",
   "execution_count": 3,
   "metadata": {
    "code_folding": [],
    "collapsed": true
   },
   "outputs": [],
   "source": [
    "order = [\n",
    "    'approach',\n",
    "    'entity', 'activity', 'value', \n",
    "    'used', 'wasDerivedFrom', 'wasGeneratedBy',\n",
    "    'hadMember', 'hadDictionaryMember', 'derivedByInsertionFrom',\n",
    "    'accessedPart', 'accessed', 'defined', 'wasDefinedBy', 'derivedByInsertion',\n",
    "]\n",
    "nodes = ['entity', 'activity', 'value']\n",
    "relationships = [x for x in order if x not in nodes and x != \"approach\"]"
   ]
  },
  {
   "cell_type": "code",
   "execution_count": 4,
   "metadata": {},
   "outputs": [
    {
     "data": {
      "text/html": [
       "<div>\n",
       "<style>\n",
       "    .dataframe thead tr:only-child th {\n",
       "        text-align: right;\n",
       "    }\n",
       "\n",
       "    .dataframe thead th {\n",
       "        text-align: left;\n",
       "    }\n",
       "\n",
       "    .dataframe tbody tr th {\n",
       "        vertical-align: top;\n",
       "    }\n",
       "</style>\n",
       "<table border=\"1\" class=\"dataframe\">\n",
       "  <thead>\n",
       "    <tr style=\"text-align: right;\">\n",
       "      <th></th>\n",
       "      <th>approach</th>\n",
       "      <th>entity</th>\n",
       "      <th>activity</th>\n",
       "      <th>value</th>\n",
       "      <th>used</th>\n",
       "      <th>wasDerivedFrom</th>\n",
       "      <th>wasGeneratedBy</th>\n",
       "      <th>hadMember</th>\n",
       "      <th>hadDictionaryMember</th>\n",
       "      <th>derivedByInsertionFrom</th>\n",
       "      <th>accessedPart</th>\n",
       "      <th>accessed</th>\n",
       "      <th>defined</th>\n",
       "      <th>wasDefinedBy</th>\n",
       "      <th>derivedByInsertion</th>\n",
       "    </tr>\n",
       "  </thead>\n",
       "  <tbody>\n",
       "    <tr>\n",
       "      <th>0</th>\n",
       "      <td>PROV</td>\n",
       "      <td>242</td>\n",
       "      <td>212</td>\n",
       "      <td>0</td>\n",
       "      <td>491</td>\n",
       "      <td>244</td>\n",
       "      <td>232</td>\n",
       "      <td>126</td>\n",
       "      <td>0</td>\n",
       "      <td>0</td>\n",
       "      <td>0</td>\n",
       "      <td>0</td>\n",
       "      <td>0</td>\n",
       "      <td>0</td>\n",
       "      <td>0</td>\n",
       "    </tr>\n",
       "    <tr>\n",
       "      <th>1</th>\n",
       "      <td>PROV-Dictionary</td>\n",
       "      <td>275</td>\n",
       "      <td>212</td>\n",
       "      <td>0</td>\n",
       "      <td>488</td>\n",
       "      <td>244</td>\n",
       "      <td>232</td>\n",
       "      <td>0</td>\n",
       "      <td>0</td>\n",
       "      <td>42</td>\n",
       "      <td>0</td>\n",
       "      <td>0</td>\n",
       "      <td>0</td>\n",
       "      <td>0</td>\n",
       "      <td>0</td>\n",
       "    </tr>\n",
       "    <tr>\n",
       "      <th>2</th>\n",
       "      <td>Mutable-PROV</td>\n",
       "      <td>218</td>\n",
       "      <td>211</td>\n",
       "      <td>43</td>\n",
       "      <td>336</td>\n",
       "      <td>101</td>\n",
       "      <td>210</td>\n",
       "      <td>0</td>\n",
       "      <td>0</td>\n",
       "      <td>0</td>\n",
       "      <td>134</td>\n",
       "      <td>47</td>\n",
       "      <td>37</td>\n",
       "      <td>37</td>\n",
       "      <td>8</td>\n",
       "    </tr>\n",
       "    <tr>\n",
       "      <th>3</th>\n",
       "      <td>Intertwined-PROV</td>\n",
       "      <td>270</td>\n",
       "      <td>211</td>\n",
       "      <td>0</td>\n",
       "      <td>476</td>\n",
       "      <td>235</td>\n",
       "      <td>210</td>\n",
       "      <td>0</td>\n",
       "      <td>15</td>\n",
       "      <td>3</td>\n",
       "      <td>0</td>\n",
       "      <td>0</td>\n",
       "      <td>0</td>\n",
       "      <td>0</td>\n",
       "      <td>0</td>\n",
       "    </tr>\n",
       "    <tr>\n",
       "      <th>4</th>\n",
       "      <td>Versioned-PROV</td>\n",
       "      <td>224</td>\n",
       "      <td>211</td>\n",
       "      <td>0</td>\n",
       "      <td>476</td>\n",
       "      <td>235</td>\n",
       "      <td>210</td>\n",
       "      <td>18</td>\n",
       "      <td>0</td>\n",
       "      <td>0</td>\n",
       "      <td>0</td>\n",
       "      <td>0</td>\n",
       "      <td>0</td>\n",
       "      <td>0</td>\n",
       "      <td>0</td>\n",
       "    </tr>\n",
       "  </tbody>\n",
       "</table>\n",
       "</div>"
      ],
      "text/plain": [
       "           approach  entity  activity  value  used  wasDerivedFrom  \\\n",
       "0              PROV     242       212      0   491             244   \n",
       "1   PROV-Dictionary     275       212      0   488             244   \n",
       "2      Mutable-PROV     218       211     43   336             101   \n",
       "3  Intertwined-PROV     270       211      0   476             235   \n",
       "4    Versioned-PROV     224       211      0   476             235   \n",
       "\n",
       "   wasGeneratedBy  hadMember  hadDictionaryMember  derivedByInsertionFrom  \\\n",
       "0             232        126                    0                       0   \n",
       "1             232          0                    0                      42   \n",
       "2             210          0                    0                       0   \n",
       "3             210          0                   15                       3   \n",
       "4             210         18                    0                       0   \n",
       "\n",
       "   accessedPart  accessed  defined  wasDefinedBy  derivedByInsertion  \n",
       "0             0         0        0             0                   0  \n",
       "1             0         0        0             0                   0  \n",
       "2           134        47       37            37                   8  \n",
       "3             0         0        0             0                   0  \n",
       "4             0         0        0             0                   0  "
      ]
     },
     "execution_count": 4,
     "metadata": {},
     "output_type": "execute_result"
    }
   ],
   "source": [
    "df = pd.DataFrame([\n",
    "    dict(**{'approach': 'PROV'}, **dict(prov[\"global\"])),\n",
    "    dict(**{'approach': 'PROV-Dictionary'}, **dict(prov_dictionary[\"global\"])),\n",
    "    dict(**{'approach': 'Mutable-PROV'}, **dict(mutable_prov[\"global\"])),\n",
    "    dict(**{'approach': 'Intertwined-PROV'}, **dict(intertwined_prov[\"global\"])),\n",
    "    dict(**{'approach': 'Versioned-PROV'}, **dict(versioned_prov[\"global\"])),\n",
    "\n",
    "], columns=order)\n",
    "\n",
    "df[order[1:]] = df[order[1:]].fillna(0.0).astype(int)\n",
    "df"
   ]
  },
  {
   "cell_type": "code",
   "execution_count": 5,
   "metadata": {
    "collapsed": true
   },
   "outputs": [],
   "source": [
    "fmt = ['---' for i in range(len(df.columns))]\n",
    "df_fmt = pd.DataFrame([fmt], columns=df.columns)\n",
    "df_formatted = pd.concat([df_fmt, df])\n",
    "df_formatted.columns = [\n",
    "    'Approach',\n",
    "    'entity', 'activity', 'value', \n",
    "    'used', 'was<br>Derived<br>From', 'was<br>Generated<br>By',\n",
    "    'had<br>Member', 'had<br>Dictionary<br>Member', 'derived<br>By<br>Insertion<br>From',\n",
    "    'accessed<br>Part', 'accessed', 'defined', 'was<br>Defined<br>By', 'derived<br>By<br>Insertion',\n",
    "]\n",
    "with open(\"../images/table.md\", \"w\") as f:\n",
    "    f.write(df_formatted.to_csv(sep=\"|\", index=False))"
   ]
  },
  {
   "cell_type": "code",
   "execution_count": 6,
   "metadata": {
    "collapsed": true
   },
   "outputs": [],
   "source": [
    "df['nodes'] = sum(df[x] for x in nodes)\n",
    "df['relationships'] = sum(df[x] for x in relationships)"
   ]
  },
  {
   "cell_type": "code",
   "execution_count": 7,
   "metadata": {},
   "outputs": [
    {
     "data": {
      "image/png": "[encoded data removed]",
      "text/plain": [
       "<matplotlib.figure.Figure at 0x17a9dc6e710>"
      ]
     },
     "metadata": {},
     "output_type": "display_data"
    }
   ],
   "source": [
    "import matplotlib.pyplot as plt\n",
    "import numpy as np\n",
    "\n",
    "parts = len(order) - 1\n",
    "\n",
    "colors1 = plt.cm.GnBu(np.linspace(0.5, 1, 3))\n",
    "colors2 = plt.cm.Purples(np.linspace(0.2, 0.7, 3))\n",
    "colors3 = plt.cm.Reds(np.linspace(0.2, 0.7, parts - 3 - 3))\n",
    "\n",
    "\n",
    "# combine them and build a new colormap\n",
    "colors = np.vstack((colors1, colors2, colors3))\n",
    "#colors = plt.cm.GnBu(np.linspace(0, 1, 3))\n",
    "\n",
    "\n",
    "gdf = df.set_index([\"approach\"])[order[1:]]\n",
    "f = plt.figure()\n",
    "ax = f.gca()\n",
    "gdf.plot(kind='bar', stacked=True, ax=ax, color=colors)\n",
    "lgd = plt.legend(loc='center left', bbox_to_anchor=(1.0, 0.5))\n",
    "ax.set_xlabel(\"\")\n",
    "ax.set_ylabel(\"Count\")\n",
    "plt.xticks(rotation=0)\n",
    "f.set_size_inches(10, 6)\n",
    "plt.savefig(\"../images/graphs/comparison.png\", bbox_extra_artists=(lgd,), bbox_inches='tight')\n",
    "plt.savefig(\"../images/graphs/comparison.svg\", bbox_extra_artists=(lgd,), bbox_inches='tight')\n",
    "plt.savefig(\"../images/graphs/comparison.pdf\", bbox_extra_artists=(lgd,), bbox_inches='tight')\n"
   ]
  },
  {
   "cell_type": "markdown",
   "metadata": {},
   "source": [
    "## Approach Based - Analysis"
   ]
  },
  {
   "cell_type": "code",
   "execution_count": 8,
   "metadata": {
    "collapsed": true
   },
   "outputs": [],
   "source": [
    "gdf = (\n",
    "    df.set_index([\"approach\"])\n",
    "    .drop(['Mutable-PROV', 'Intertwined-PROV'])\n",
    "    .rename(index={\n",
    "        \"PROV\": \"Plain\",\n",
    "        \"PROV-Dictionary\": \"Dict\",\n",
    "        \"Versioned-PROV\": \"Ver\",\n",
    "        \"Mutable-PROV\": \"M\",\n",
    "        \"Intertwined-PROV\": \"I\",\n",
    "    })\n",
    ")"
   ]
  },
  {
   "cell_type": "code",
   "execution_count": 9,
   "metadata": {},
   "outputs": [
    {
     "data": {
      "image/png": "[encoded data removed]",
      "text/plain": [
       "<matplotlib.figure.Figure at 0x17aa11503c8>"
      ]
     },
     "metadata": {},
     "output_type": "display_data"
    }
   ],
   "source": [
    "from collections import Counter\n",
    "import matplotlib.patches as mpatches\n",
    "def annotate(ax):\n",
    "    w2 = ax.containers[0].get_children()[0].get_width() / 2.0\n",
    "    c = Counter()\n",
    "    for p in ax.patches:\n",
    "        c[p.get_x()] += int(p.get_height())\n",
    "    \n",
    "    for key, value in c.items():\n",
    "        ax.text(\n",
    "            key + w2, value * 1.05, str(value), ha='center'\n",
    "        )\n",
    "    ax.yaxis.set_ticklabels([])\n",
    "    \n",
    "    ax.spines['top'].set_visible(False)\n",
    "    ax.spines['right'].set_visible(False)\n",
    "    #ax.spines['bottom'].set_visible(False)\n",
    "    ax.spines['left'].set_visible(False)\n",
    "    ax.tick_params(top='off', bottom='off', left='off', right='off', labelleft='off', labelbottom='on')\n",
    "        \n",
    "colors = plt.cm.GnBu(np.linspace(0.5, 1, 3))\n",
    "\n",
    "f, (ax1, ax2, ax3) = plt.subplots(1, 3, sharey=False)\n",
    "\n",
    "gdf[\"nodes\"].plot(kind='bar', color=colors[0], ax=ax1, rot=0)\n",
    "ax1.set_xlabel(\"(A)\")\n",
    "ax1.set_ylabel(\"Count\")\n",
    "annotate(ax1)\n",
    "\n",
    "gdf[\"relationships\"].plot(kind='bar', color=colors[1], ax=ax2, rot=0)\n",
    "ax2.set_xlabel(\"(B)\")\n",
    "ax2.set_ylabel(\"\")\n",
    "annotate(ax2)\n",
    "\n",
    "sdf = gdf[[\"nodes\", \"relationships\"]]\n",
    "sdf.plot(kind='bar', stacked=True, ax=ax3, color=colors)\n",
    "ax3.set_xlabel(\"(C)\")\n",
    "ax3.set_ylabel(\"\")\n",
    "ax3.legend().set_visible(False)\n",
    "annotate(ax3)\n",
    "\n",
    "\n",
    "lnodes = mpatches.Patch(color=colors[0], label='Nodes')\n",
    "lrelationships = mpatches.Patch(color=colors[1], label='Relationships')\n",
    "\n",
    "\n",
    "#handles, labels = ax3.get_legend_handles_labels()\n",
    "lgd = ax2.legend(\n",
    "    handles=[lnodes, lrelationships],\n",
    "    loc='center', ncol=2,\n",
    "    bbox_to_anchor=(0.5, 1.15))\n",
    "\n",
    "\n",
    "plt.xticks(rotation=0)\n",
    "f.set_size_inches(4.8, 2.5)\n",
    "plt.savefig(\"../images/graphs/paper_comparison.png\", bbox_extra_artists=(lgd,), bbox_inches='tight')\n",
    "plt.savefig(\"../images/graphs/paper_comparison.svg\", bbox_extra_artists=(lgd,), bbox_inches='tight')\n",
    "plt.savefig(\"../images/graphs/paper_comparison.pdf\", bbox_extra_artists=(lgd,), bbox_inches='tight')"
   ]
  },
  {
   "cell_type": "code",
   "execution_count": null,
   "metadata": {
    "collapsed": true
   },
   "outputs": [],
   "source": []
  }
 ],
 "metadata": {
  "kernelspec": {
   "display_name": "Python 3",
   "language": "python",
   "name": "python3"
  },
  "language_info": {
   "codemirror_mode": {
    "name": "ipython",
    "version": 3
   },
   "file_extension": ".py",
   "mimetype": "text/x-python",
   "name": "python",
   "nbconvert_exporter": "python",
   "pygments_lexer": "ipython3",
   "version": "3.6.1"
  },
  "toc": {
   "nav_menu": {},
   "number_sections": true,
   "sideBar": true,
   "skip_h1_title": false,
   "title_cell": "Table of Contents",
   "title_sidebar": "Contents",
   "toc_cell": false,
   "toc_position": {},
   "toc_section_display": "block",
   "toc_window_display": false
  }
 },
 "nbformat": 4,
 "nbformat_minor": 2
}
