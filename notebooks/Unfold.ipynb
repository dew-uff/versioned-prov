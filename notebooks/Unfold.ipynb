{
 "cells": [
  {
   "cell_type": "code",
   "execution_count": null,
   "metadata": {
    "collapsed": true
   },
   "outputs": [],
   "source": [
    "import sys\n",
    "sys.path.insert(0, '../tools')\n",
    "\n",
    "from pprint import pprint\n",
    "%load_ext prov_magics\n",
    "\n",
    "import prov_dictionary\n",
    "from prov_parser import build_parser\n",
    "from qversioned_prov import *"
   ]
  },
  {
   "cell_type": "code",
   "execution_count": null,
   "metadata": {
    "collapsed": true
   },
   "outputs": [],
   "source": []
  },
  {
   "cell_type": "code",
   "execution_count": null,
   "metadata": {
    "collapsed": true
   },
   "outputs": [],
   "source": [
    "from dot import _unquote\n",
    "\n",
    "def extract_entity(eid, attrs={}, id_=None):\n",
    "    return [\"entity\", [eid], attrs, id_]\n",
    "\n",
    "def extract_value(vid, attrs={}, id_=None):\n",
    "    return [\"value\", [vid], attrs, id_]\n",
    "\n",
    "\n",
    "parser = build_parser({\n",
    "    'prefix': lambda *args, **kwargs: None,\n",
    "    'entity': extract_entity,\n",
    "    'value': extract_value,\n",
    "})\n",
    "\n",
    "\n",
    "\n",
    "def ext(text, arg):\n",
    "    node = parser(text)[0]\n",
    "    if arg.startswith(\"_\"):\n",
    "        return node[1][int(arg[1:])]\n",
    "    if arg == \"id_\":\n",
    "        return node[-1]\n",
    "    if arg in node[2]:\n",
    "        return node[2][arg]\n",
    "    return None\n",
    "\n",
    "def attr(text, arg):\n",
    "    return _unquote(ext(text, arg))\n",
    "            \n",
    "def update(text, **kwargs):\n",
    "    node = parser(text)[0]\n",
    "    for arg, value in kwargs.items():\n",
    "        if arg.startswith(\"_\"):\n",
    "            node[1][int(arg[1:])] = value\n",
    "        elif arg == \"id_\":\n",
    "            node[-1] = value\n",
    "        elif arg.startswith(\"d__\"):\n",
    "            del node[2][arg]\n",
    "        else:\n",
    "            node[2][arg] = value\n",
    "    return querier.text(*node)\n",
    "\n"
   ]
  },
  {
   "cell_type": "code",
   "execution_count": null,
   "metadata": {
    "collapsed": true
   },
   "outputs": [],
   "source": [
    "querier.load(\"../mutable_prov/temp/L2__list_definition0.provn\");\n",
    "querier.generate('''\n",
    "value(v10000, [repr=\"10000\"])\n",
    "entity(e10000, [value=\"10000\", type=\"literal\"])\n",
    "defined(e10000, v10000, 2018-02-26T14:41:52.080421)\n",
    "''')"
   ]
  },
  {
   "cell_type": "code",
   "execution_count": 21,
   "metadata": {
    "collapsed": true
   },
   "outputs": [],
   "source": [
    "\n",
    "from copy import copy\n",
    "from collections import defaultdict\n",
    "from collections import deque\n",
    "import bisect\n",
    "import datetime\n",
    "\n",
    "class StateController(dict):\n",
    "    \"\"\"Helper dictionary with functions to get the biggest time smaller or equals to a time\"\"\"\n",
    "    def __init__(self):\n",
    "        self.order = []\n",
    "        \n",
    "    def __setitem__(self, time, obj):\n",
    "        if time not in self:\n",
    "            bisect.insort(self.order, time)\n",
    "\n",
    "        super(StateController, self).__setitem__(time, obj)\n",
    "        \n",
    "    def find_time(self, time):\n",
    "        index = bisect.bisect_right(self.order, time) - 1\n",
    "        if index == -1:\n",
    "            index = 0\n",
    "        return self.order[index]\n",
    "    \n",
    "    def find(self, time):\n",
    "        return self[self.find_time(time)]\n",
    "\n",
    "\n",
    "def build_original_reference_map():\n",
    "    \"\"\"Follow wasDerivedFrom(C, E, -, -, -, [type=\"Reference\"]) until entity that has the membership\"\"\"\n",
    "    C, E = var(\"C E\")\n",
    "    same = {}\n",
    "    for __ in was_derived_from(C, E, type=\"Reference\"):\n",
    "        same[C.bound] = E.bound\n",
    "\n",
    "    new_same = copy(same)\n",
    "    for key in same:\n",
    "        current = new_same[key]\n",
    "        next_key = new_same.get(current)\n",
    "        while next_key:\n",
    "            current = next_key\n",
    "            next_key = new_same.get(current)\n",
    "        new_same[key] = current\n",
    "    return new_same\n",
    "\n",
    "def rebuild_all_states(same):\n",
    "    \"\"\"Follow hadMember relationships to rebuild states\n",
    "    \n",
    "    Navigate on the hadMember graph to rebuild states of sub-entities\n",
    "    \"\"\"\n",
    "    C, E, K, T, TX = var(\"C E K T TX\")\n",
    "    # Create all_states simple graph\n",
    "    all_states = defaultdict(StateController)\n",
    "    parents = defaultdict(set)\n",
    "    derivations = defaultdict(list)\n",
    "    for __ in had_member(C, E, key=K, moment=T):\n",
    "        derivations[C.bound].append([T.bound, E.bound, K.bound])\n",
    "    for val, der in derivations.items():\n",
    "        der.sort()\n",
    "        obj = {}\n",
    "        for time, entity, key in der:\n",
    "            obj = copy(obj)\n",
    "            obj[key] = same.get(entity, entity)\n",
    "            all_states[val][time] = obj\n",
    "        \n",
    "    # Navigate on the graph\n",
    "    queue = deque(all_states.keys())\n",
    "    visited = set()\n",
    "    while queue:\n",
    "        current = queue.pop()\n",
    "        if current in visited:\n",
    "            continue\n",
    "        processed = True\n",
    "        keys = all_states[current].order + [datetime.datetime.max]\n",
    "        it = iter(keys)\n",
    "        next(it)\n",
    "        for time1, time2 in zip(keys, it):\n",
    "            obj = all_states[current][time1]\n",
    "            for value in obj.values():\n",
    "                if value in all_states:\n",
    "                    if value in visited:\n",
    "                        # Get changes that occurred between two states\n",
    "                        for time in all_states[value]:\n",
    "                            if time1 <= time <= time2:\n",
    "                                all_states[current][time] = obj\n",
    "                                parents[(same.get(value, value), time)].add(current)\n",
    "                    else:\n",
    "                        processed = False\n",
    "        if processed:\n",
    "            visited.add(current)\n",
    "        else:\n",
    "            queue.appendleft(current)\n",
    "    return all_states, parents\n",
    "\n",
    "    \n"
   ]
  },
  {
   "cell_type": "code",
   "execution_count": 16,
   "metadata": {
    "collapsed": true
   },
   "outputs": [],
   "source": [
    "querier.load(\"../images/versioned_prov/floydwarshall.provn\");"
   ]
  },
  {
   "cell_type": "code",
   "execution_count": 22,
   "metadata": {},
   "outputs": [
    {
     "data": {
      "text/plain": [
       "defaultdict(set,\n",
       "            {('list0',\n",
       "              datetime.datetime(2018, 3, 5, 16, 4, 18, 294847)): {'list'},\n",
       "             ('list0',\n",
       "              datetime.datetime(2018, 3, 5, 16, 4, 23, 958634)): {'list'},\n",
       "             ('list1',\n",
       "              datetime.datetime(2018, 3, 5, 16, 4, 18, 294847)): {'list'},\n",
       "             ('list1',\n",
       "              datetime.datetime(2018, 3, 5, 16, 4, 28, 133446)): {'list'},\n",
       "             ('list2',\n",
       "              datetime.datetime(2018, 3, 5, 16, 4, 18, 294847)): {'list'},\n",
       "             ('list2',\n",
       "              datetime.datetime(2018, 3, 5, 16, 4, 22, 139873)): {'list'}})"
      ]
     },
     "execution_count": 22,
     "metadata": {},
     "output_type": "execute_result"
    }
   ],
   "source": [
    "same = build_original_reference_map()\n",
    "all_states, parents = rebuild_all_states(same)\n",
    "all_states['list'].find(datetime.datetime.max)\n",
    "parents"
   ]
  },
  {
   "cell_type": "code",
   "execution_count": 32,
   "metadata": {},
   "outputs": [
    {
     "data": {
      "text/plain": [
       "defaultdict(list,\n",
       "            {('disti#3',\n",
       "              datetime.datetime(2018, 3, 5, 16, 4, 18, 294847)): [('used',\n",
       "               'used(assign18, disti#3, -)')],\n",
       "             ('disti#4',\n",
       "              datetime.datetime(2018, 3, 5, 16, 4, 18, 294847)): [('used',\n",
       "               'used(assign25, disti#4, -)')],\n",
       "             ('disti#8',\n",
       "              datetime.datetime(2018, 3, 5, 16, 4, 18, 294847)): [('used',\n",
       "               'used(assign41, disti#8, -)')]})"
      ]
     },
     "execution_count": 32,
     "metadata": {},
     "output_type": "execute_result"
    }
   ],
   "source": [
    "visited = set()\n",
    "todo = defaultdict(list)\n",
    "_ = BLANK\n",
    "A, D, E, T, W, U, TX, TX2 = var(\"A D E T W U TX TX2\")\n",
    "for __ in was_derived_from(D, E, A, _, _, moment=T, collection=W, access=\"w\", text=TX):\n",
    "    wsame = same.get(W.bound, W.bound)\n",
    "    # use previous time to get used collection\n",
    "    time = all_states[wsame].find_time(T.bound - datetime.timedelta(microseconds=1))\n",
    "    state = (W.bound, time)  \n",
    "    for __ in used(_, A.bound, W.bound, text=TX2):\n",
    "        todo[state].append((\"used\", TX2.bound))\n",
    "        visited.add(TX2.bound)\n",
    "    \n",
    "todo"
   ]
  },
  {
   "cell_type": "code",
   "execution_count": null,
   "metadata": {
    "collapsed": true
   },
   "outputs": [],
   "source": [
    "a = 4"
   ]
  },
  {
   "cell_type": "code",
   "execution_count": null,
   "metadata": {
    "collapsed": true
   },
   "outputs": [],
   "source": [
    "eval(\"a\", {\"a\": 4})"
   ]
  },
  {
   "cell_type": "code",
   "execution_count": null,
   "metadata": {
    "collapsed": true
   },
   "outputs": [],
   "source": [
    "result = set()\n",
    "todo = defaultdict(list)\n",
    "shared = defaultdict(list)\n",
    "\n",
    "def find_non_none(exp, *args):\n",
    "    \n",
    "\n",
    "def find_closest_future(enti, activity, time=None, last=datetime.datetime.max):\n",
    "    if time:\n",
    "        return time\n",
    "    _ = BLANK\n",
    "    A, E, T, T2, W = var(\"A E T T2 W\")\n",
    "    entities = []\n",
    "    for __ in used(_, activity, _, T):\n",
    "        if T.bound:\n",
    "            return T.bound\n",
    "    for __ in was_generated_by(_, E, activity, T) & entity(E, T2):\n",
    "        if T.bound:\n",
    "            return T.bound\n",
    "        if T2.bound:\n",
    "            return T2.bound - datetime.timedelta(microseconds=1)\n",
    "        entities.append(E.bound)\n",
    "    for __ in was_derived_from(_, _, activity, _, _, collection=W, moment=T):\n",
    "        if T.bound:\n",
    "            if W.bound == enti:\n",
    "                return T.bound - datetime.timedelta(microseconds=1)\n",
    "            return T.bound\n",
    "    for ent in entities:\n",
    "        for __ in used(_, A, ent, T):\n",
    "            if T.bound:\n",
    "                return T.bound\n",
    "            result = find_closest_future(enti, A.bound, last=None)\n",
    "            if result:\n",
    "                return result\n",
    "        for __ in was_derived_from(_, ent, A, _, _, moment=T):\n",
    "            if T.bound:\n",
    "                return T.bound\n",
    "            result = find_closest_future(enti, A.bound, last=None)\n",
    "            if result:\n",
    "                return result\n",
    "    return last\n",
    "    \n",
    "    \n",
    "\n",
    "_ = BLANK\n",
    "A, E, T, TX = var(\"A E T TX\")\n",
    "for __ in used(_, A, E, T, text=TX):\n",
    "    esame = same.get(E.bound, E.bound) \n",
    "    if esame not in all_states:\n",
    "        result.add(TX.bound)\n",
    "    else:\n",
    "        time = find_closest_future(E.bound, A.bound, T.bound)\n",
    "        state = (E.bound, all_states[esame].find_time(time))\n",
    "        todo[state].append((\"used\", TX.bound))\n",
    "        estate = (esame, state[1])\n",
    "        shared[estate].append(state)\n",
    "\n",
    "shared\n",
    "    "
   ]
  },
  {
   "cell_type": "code",
   "execution_count": null,
   "metadata": {
    "collapsed": true
   },
   "outputs": [],
   "source": [
    "import importlib\n",
    "import annotations as prov\n",
    "importlib.reload(prov)\n",
    "\n",
    "def add_unmarked(marked, fn):\n",
    "    TX = var()\n",
    "    for _ in fn(text=TX):\n",
    "        text = TX.bound\n",
    "        if text not in marked:\n",
    "            prov.add(text)\n",
    "\n",
    "prov.reset_prov(\"../mutable_prov/unfold/\", False)\n",
    "\n",
    "\n",
    "marked = set()\n",
    "E, V, C, T, TX = var(5)\n",
    "valuemap = {\n",
    "    V.bound: TX.bound\n",
    "    for _ in value(V, TX)\n",
    "}\n",
    "\n",
    "value_with_parts = {\n",
    "    V.bound: (E.bound, V.bound, C.bound, T.bound, TX.bound)\n",
    "    for _ in derived_by_insertion(E, V, C, T, TX)\n",
    "}\n",
    "\n",
    "value_without_parts = set(valuemap) - set(value_with_parts) \n",
    "\n",
    "value_to_entity = {}\n",
    "\n",
    "# Add imutable values\n",
    "for vid in value_without_parts:\n",
    "    vtext = valuemap[vid]\n",
    "    for _ in entity(E, TX) & accessed(E, vid):\n",
    "        marked.add(TX.bound)\n",
    "        prov.entity(ext(TX.bound, \"_0\"), attr(vtext, \"repr\"), attr(TX.bound, \"type\"))\n",
    "        value_to_entity[vid] = E.bound\n",
    "    for _ in entity(E, TX) & defined(E, vid):\n",
    "        marked.add(TX.bound)\n",
    "        prov.entity(ext(TX.bound, \"_0\"), attr(vtext, \"repr\"), attr(TX.bound, \"type\"))\n",
    "        value_to_entity[vid] = E.bound\n",
    "    \n",
    "# List definition\n",
    "for _ in defined(E, V, T) & derived_by_insertion(E, V, C, T) & entity(E, TX):\n",
    "    vtext = valuemap[V.bound]\n",
    "    list_id = ext(TX.bound, \"_0\")\n",
    "    list_value = attr(vtext, \"repr\")\n",
    "    der = []\n",
    "    parts = {}\n",
    "    collection = prov.entity(list_id, list_value, \"Dictionary\")\n",
    "    empty = prov.entity(\"e\" + list_id, \"{}\", \"EmptyDictionary\")\n",
    "    for key, vid in C.bound:\n",
    "        key = _unquote(key)\n",
    "        member = prov.entity(\n",
    "            list_id[:-1] + key + \"_\" + list_id[-1], \n",
    "            attr(valuemap[vid], \"repr\"), \"number\")\n",
    "        der.append((member, value_to_entity[vid]))\n",
    "        parts[key] = member\n",
    "    \n",
    "    prov.derivedByInsertionFrom(collection, empty, parts)\n",
    "    prov.activity(\"definelist\", der, generated=[collection])\n",
    "    marked.add(TX.bound)\n",
    "    \n",
    "            \n",
    "\n",
    "# Add unmarked PROV\n",
    "add_unmarked(marked, entity)\n",
    "add_unmarked(marked, activity)\n",
    "add_unmarked(marked, used)\n",
    "add_unmarked(marked, was_derived_from)\n",
    "add_unmarked(marked, was_generated_by)\n",
    "add_unmarked(marked, had_member)\n",
    "#print(\"\\n\".join(prov.RESULT))\n",
    "pprint(prov.stats(\"../mutable_prov/unfold/result\", \"provn svg\"))"
   ]
  },
  {
   "cell_type": "code",
   "execution_count": null,
   "metadata": {
    "collapsed": true
   },
   "outputs": [],
   "source": [
    "marked"
   ]
  },
  {
   "cell_type": "code",
   "execution_count": null,
   "metadata": {
    "collapsed": true
   },
   "outputs": [],
   "source": [
    "m = 10000 # max value\n",
    "result = dist = [\n",
    "    [0, 1, 4],\n",
    "    [m, 0, 2],\n",
    "    [2, m, 0],\n",
    "]\n",
    "nodes = len(dist)\n",
    "indexes = set(range(nodes))\n",
    "for k in indexes:\n",
    "    distk = dist[k]\n",
    "    for i in indexes - {k}:\n",
    "        disti = dist[i]\n",
    "        for j in indexes - {k, i}:\n",
    "            print(k, i, j)\n",
    "            ikj = disti[k] + distk[j]\n",
    "            if disti[j] > ikj:\n",
    "                disti[j] = ikj\n",
    "print(result[0][2])"
   ]
  },
  {
   "cell_type": "code",
   "execution_count": null,
   "metadata": {
    "collapsed": true
   },
   "outputs": [],
   "source": [
    "range(nodes)"
   ]
  },
  {
   "cell_type": "code",
   "execution_count": null,
   "metadata": {
    "collapsed": true
   },
   "outputs": [],
   "source": [
    "indexes"
   ]
  },
  {
   "cell_type": "code",
   "execution_count": null,
   "metadata": {
    "collapsed": true
   },
   "outputs": [],
   "source": [
    "indexes = list(range(nodes))"
   ]
  },
  {
   "cell_type": "code",
   "execution_count": null,
   "metadata": {
    "collapsed": true
   },
   "outputs": [],
   "source": [
    "indexes[:k] + indexes[k + 1:] "
   ]
  },
  {
   "cell_type": "code",
   "execution_count": null,
   "metadata": {
    "collapsed": true
   },
   "outputs": [],
   "source": [
    "indexes = set(range(nodes))"
   ]
  },
  {
   "cell_type": "code",
   "execution_count": null,
   "metadata": {
    "collapsed": true
   },
   "outputs": [],
   "source": [
    "indexes.discard(1)"
   ]
  },
  {
   "cell_type": "code",
   "execution_count": null,
   "metadata": {
    "collapsed": true
   },
   "outputs": [],
   "source": []
  }
 ],
 "metadata": {
  "kernelspec": {
   "display_name": "Python 3",
   "language": "python",
   "name": "python3"
  },
  "language_info": {
   "codemirror_mode": {
    "name": "ipython",
    "version": 3
   },
   "file_extension": ".py",
   "mimetype": "text/x-python",
   "name": "python",
   "nbconvert_exporter": "python",
   "pygments_lexer": "ipython3",
   "version": "3.6.1"
  },
  "toc": {
   "nav_menu": {},
   "number_sections": true,
   "sideBar": true,
   "skip_h1_title": false,
   "title_cell": "Table of Contents",
   "title_sidebar": "Contents",
   "toc_cell": false,
   "toc_position": {},
   "toc_section_display": true,
   "toc_window_display": false
  }
 },
 "nbformat": 4,
 "nbformat_minor": 2
}
