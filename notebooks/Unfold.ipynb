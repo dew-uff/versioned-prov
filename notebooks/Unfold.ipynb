{
 "cells": [
  {
   "cell_type": "code",
   "execution_count": 56,
   "metadata": {},
   "outputs": [
    {
     "name": "stdout",
     "output_type": "stream",
     "text": [
      "The prov_magics extension is already loaded. To reload it, use:\n",
      "  %reload_ext prov_magics\n"
     ]
    }
   ],
   "source": [
    "import sys\n",
    "sys.path.insert(0, '../tools')\n",
    "\n",
    "from pprint import pprint\n",
    "%load_ext prov_magics\n",
    "import prov_dictionary\n",
    "from prov_parser import build_parser\n",
    "from qmutable_prov import *"
   ]
  },
  {
   "cell_type": "code",
   "execution_count": null,
   "metadata": {
    "collapsed": true
   },
   "outputs": [],
   "source": []
  },
  {
   "cell_type": "code",
   "execution_count": 57,
   "metadata": {},
   "outputs": [],
   "source": [
    "from dot import _unquote\n",
    "\n",
    "def extract_entity(eid, attrs={}, id_=None):\n",
    "    return [\"entity\", [eid], attrs, id_]\n",
    "\n",
    "def extract_value(vid, attrs={}, id_=None):\n",
    "    return [\"value\", [vid], attrs, id_]\n",
    "\n",
    "\n",
    "parser = build_parser({\n",
    "    'prefix': lambda *args, **kwargs: None,\n",
    "    'entity': extract_entity,\n",
    "    'value': extract_value,\n",
    "})\n",
    "\n",
    "\n",
    "\n",
    "def ext(text, arg):\n",
    "    node = parser(text)[0]\n",
    "    if arg.startswith(\"_\"):\n",
    "        return node[1][int(arg[1:])]\n",
    "    if arg == \"id_\":\n",
    "        return node[-1]\n",
    "    if arg in node[2]:\n",
    "        return node[2][arg]\n",
    "    return None\n",
    "\n",
    "def attr(text, arg):\n",
    "    return _unquote(ext(text, arg))\n",
    "            \n",
    "def update(text, **kwargs):\n",
    "    node = parser(text)[0]\n",
    "    for arg, value in kwargs.items():\n",
    "        if arg.startswith(\"_\"):\n",
    "            node[1][int(arg[1:])] = value\n",
    "        elif arg == \"id_\":\n",
    "            node[-1] = value\n",
    "        elif arg.startswith(\"d__\"):\n",
    "            del node[2][arg]\n",
    "        else:\n",
    "            node[2][arg] = value\n",
    "    return querier.text(*node)\n",
    "\n"
   ]
  },
  {
   "cell_type": "code",
   "execution_count": 62,
   "metadata": {},
   "outputs": [
    {
     "data": {
      "text/plain": [
       "[['v10000', 'value(v10000, [repr=\"10000\"])'],\n",
       " ['e10000', 'entity(e10000, [value=\"10000\", type=\"literal\"])'],\n",
       " ['e10000',\n",
       "  'v10000',\n",
       "  datetime.datetime(2018, 2, 26, 14, 41, 52, 80421),\n",
       "  'defined(e10000, v10000, 2018-02-26T14:41:52.080421)']]"
      ]
     },
     "execution_count": 62,
     "metadata": {},
     "output_type": "execute_result"
    }
   ],
   "source": [
    "querier.load(\"../mutable_prov/temp/L2__list_definition0.provn\");\n",
    "querier.generate('''\n",
    "value(v10000, [repr=\"10000\"])\n",
    "entity(e10000, [value=\"10000\", type=\"literal\"])\n",
    "defined(e10000, v10000, 2018-02-26T14:41:52.080421)\n",
    "''')"
   ]
  },
  {
   "cell_type": "code",
   "execution_count": 63,
   "metadata": {
    "collapsed": true
   },
   "outputs": [],
   "source": [
    "querier.load(\"../mutable_prov/floydwarshall.provn\");"
   ]
  },
  {
   "cell_type": "code",
   "execution_count": 94,
   "metadata": {},
   "outputs": [
    {
     "data": {
      "text/plain": [
       "[(datetime.datetime(2018, 2, 26, 14, 41, 52, 81023),\n",
       "  {'0': 'v10000', '1': 'v0', '2': 'v2'}),\n",
       " (datetime.datetime(2018, 2, 26, 14, 42, 2, 150059),\n",
       "  {'0': 'vsum_21', '1': 'v0', '2': 'v2'})]"
      ]
     },
     "execution_count": 94,
     "metadata": {},
     "output_type": "execute_result"
    }
   ],
   "source": [
    "from collections import defaultdict\n",
    "from copy import copy\n",
    "all_states = defaultdict(list)\n",
    "derivations = defaultdict(list)\n",
    "\n",
    "E, V, C, T, TX = var(5)\n",
    "for _ in derived_by_insertion(E, V, C, T, TX):\n",
    "    derivations[V.bound].append([T.bound, E.bound, C.bound, TX.bound])\n",
    "\n",
    "    \n",
    "for val, der in derivations.items():\n",
    "    der.sort()\n",
    "    obj = {}\n",
    "    for time, entity, changes, text in der:\n",
    "        obj = copy(obj)\n",
    "        for key, value in changes:\n",
    "            obj[_unquote(key)] = value\n",
    "        all_states[val].append((time, obj))\n",
    "    \n",
    "all_states['row1']\n",
    "\n"
   ]
  },
  {
   "cell_type": "code",
   "execution_count": 95,
   "metadata": {},
   "outputs": [
    {
     "data": {
      "text/plain": [
       "[(datetime.datetime(2018, 2, 26, 14, 41, 52, 81023),\n",
       "  {'0': 'row0', '1': 'row1', '2': 'row2'})]"
      ]
     },
     "execution_count": 95,
     "metadata": {},
     "output_type": "execute_result"
    }
   ],
   "source": [
    "all_states['list_1']"
   ]
  },
  {
   "cell_type": "code",
   "execution_count": 96,
   "metadata": {},
   "outputs": [],
   "source": [
    "new_all_states = defaultdict(list)\n",
    "for val, states in all_states.items():\n",
    "    new_states = []\n",
    "    for time, obj in states:\n",
    "        new_states.append((time, obj))\n",
    "        changes = []\n",
    "        for key, sub in obj.items():\n",
    "            if sub in all_states:\n",
    "                for x in all_states[sub]:\n",
    "                    if x[0] > time:\n",
    "                        changes.append([x[0], key, x[1]])\n",
    "        changes.sort()\n",
    "        for time, k, v in changes:\n",
    "            new_states.append((time, obj))\n",
    "    new_states.sort()\n",
    "    new_all_states[val] = new_states"
   ]
  },
  {
   "cell_type": "code",
   "execution_count": 97,
   "metadata": {},
   "outputs": [
    {
     "data": {
      "text/plain": [
       "defaultdict(list,\n",
       "            {'list_1': [(datetime.datetime(2018, 2, 26, 14, 41, 52, 81023),\n",
       "               {'0': 'row0', '1': 'row1', '2': 'row2'}),\n",
       "              (datetime.datetime(2018, 2, 26, 14, 41, 55, 929679),\n",
       "               {'0': 'row0', '1': 'row1', '2': 'row2'}),\n",
       "              (datetime.datetime(2018, 2, 26, 14, 41, 57, 845557),\n",
       "               {'0': 'row0', '1': 'row1', '2': 'row2'}),\n",
       "              (datetime.datetime(2018, 2, 26, 14, 42, 2, 150059),\n",
       "               {'0': 'row0', '1': 'row1', '2': 'row2'})],\n",
       "             'row0': [(datetime.datetime(2018, 2, 26, 14, 41, 52, 81023),\n",
       "               {'0': 'v0', '1': 'v1', '2': 'v4'}),\n",
       "              (datetime.datetime(2018, 2, 26, 14, 41, 57, 845557),\n",
       "               {'0': 'v0', '1': 'v1', '2': 'vsum_11'})],\n",
       "             'row1': [(datetime.datetime(2018, 2, 26, 14, 41, 52, 81023),\n",
       "               {'0': 'v10000', '1': 'v0', '2': 'v2'}),\n",
       "              (datetime.datetime(2018, 2, 26, 14, 42, 2, 150059),\n",
       "               {'0': 'vsum_21', '1': 'v0', '2': 'v2'})],\n",
       "             'row2': [(datetime.datetime(2018, 2, 26, 14, 41, 52, 81023),\n",
       "               {'0': 'v2', '1': 'v10000', '2': 'v0'}),\n",
       "              (datetime.datetime(2018, 2, 26, 14, 41, 55, 929679),\n",
       "               {'0': 'v2', '1': 'vsum_7', '2': 'v0'})],\n",
       "             'v_range': [(datetime.datetime(2018, 2, 26, 14, 41, 52, 654714),\n",
       "               {'0': 'v0_1', '1': 'v1_1', '2': 'v2_1'})]})"
      ]
     },
     "execution_count": 97,
     "metadata": {},
     "output_type": "execute_result"
    }
   ],
   "source": [
    "new_all_states"
   ]
  },
  {
   "cell_type": "code",
   "execution_count": null,
   "metadata": {
    "collapsed": true
   },
   "outputs": [],
   "source": []
  },
  {
   "cell_type": "code",
   "execution_count": 55,
   "metadata": {},
   "outputs": [
    {
     "ename": "KeyError",
     "evalue": "'row0'",
     "output_type": "error",
     "traceback": [
      "\u001b[1;31m---------------------------------------------------------------------------\u001b[0m",
      "\u001b[1;31mKeyError\u001b[0m                                  Traceback (most recent call last)",
      "\u001b[1;32m<ipython-input-55-eaafb2372153>\u001b[0m in \u001b[0;36m<module>\u001b[1;34m()\u001b[0m\n\u001b[0;32m     55\u001b[0m             \u001b[0mlist_id\u001b[0m\u001b[1;33m[\u001b[0m\u001b[1;33m:\u001b[0m\u001b[1;33m-\u001b[0m\u001b[1;36m1\u001b[0m\u001b[1;33m]\u001b[0m \u001b[1;33m+\u001b[0m \u001b[0mkey\u001b[0m \u001b[1;33m+\u001b[0m \u001b[1;34m\"_\"\u001b[0m \u001b[1;33m+\u001b[0m \u001b[0mlist_id\u001b[0m\u001b[1;33m[\u001b[0m\u001b[1;33m-\u001b[0m\u001b[1;36m1\u001b[0m\u001b[1;33m]\u001b[0m\u001b[1;33m,\u001b[0m\u001b[1;33m\u001b[0m\u001b[0m\n\u001b[0;32m     56\u001b[0m             attr(valuemap[vid], \"repr\"), \"number\")\n\u001b[1;32m---> 57\u001b[1;33m         \u001b[0mder\u001b[0m\u001b[1;33m.\u001b[0m\u001b[0mappend\u001b[0m\u001b[1;33m(\u001b[0m\u001b[1;33m(\u001b[0m\u001b[0mmember\u001b[0m\u001b[1;33m,\u001b[0m \u001b[0mvalue_to_entity\u001b[0m\u001b[1;33m[\u001b[0m\u001b[0mvid\u001b[0m\u001b[1;33m]\u001b[0m\u001b[1;33m)\u001b[0m\u001b[1;33m)\u001b[0m\u001b[1;33m\u001b[0m\u001b[0m\n\u001b[0m\u001b[0;32m     58\u001b[0m         \u001b[0mparts\u001b[0m\u001b[1;33m[\u001b[0m\u001b[0mkey\u001b[0m\u001b[1;33m]\u001b[0m \u001b[1;33m=\u001b[0m \u001b[0mmember\u001b[0m\u001b[1;33m\u001b[0m\u001b[0m\n\u001b[0;32m     59\u001b[0m \u001b[1;33m\u001b[0m\u001b[0m\n",
      "\u001b[1;31mKeyError\u001b[0m: 'row0'"
     ]
    }
   ],
   "source": [
    "import importlib\n",
    "import annotations as prov\n",
    "importlib.reload(prov)\n",
    "\n",
    "def add_unmarked(marked, fn):\n",
    "    TX = var()\n",
    "    for _ in fn(text=TX):\n",
    "        text = TX.bound\n",
    "        if text not in marked:\n",
    "            prov.add(text)\n",
    "\n",
    "prov.reset_prov(\"../mutable_prov/unfold/\", False)\n",
    "\n",
    "\n",
    "marked = set()\n",
    "E, V, C, T, TX = var(5)\n",
    "valuemap = {\n",
    "    V.bound: TX.bound\n",
    "    for _ in value(V, TX)\n",
    "}\n",
    "\n",
    "value_with_parts = {\n",
    "    V.bound: (E.bound, V.bound, C.bound, T.bound, TX.bound)\n",
    "    for _ in derived_by_insertion(E, V, C, T, TX)\n",
    "}\n",
    "\n",
    "value_without_parts = set(valuemap) - set(value_with_parts) \n",
    "\n",
    "value_to_entity = {}\n",
    "\n",
    "# Add imutable values\n",
    "for vid in value_without_parts:\n",
    "    vtext = valuemap[vid]\n",
    "    for _ in entity(E, TX) & accessed(E, vid):\n",
    "        marked.add(TX.bound)\n",
    "        prov.entity(ext(TX.bound, \"_0\"), attr(vtext, \"repr\"), attr(TX.bound, \"type\"))\n",
    "        value_to_entity[vid] = E.bound\n",
    "    for _ in entity(E, TX) & defined(E, vid):\n",
    "        marked.add(TX.bound)\n",
    "        prov.entity(ext(TX.bound, \"_0\"), attr(vtext, \"repr\"), attr(TX.bound, \"type\"))\n",
    "        value_to_entity[vid] = E.bound\n",
    "    \n",
    "# List definition\n",
    "for _ in defined(E, V, T) & derived_by_insertion(E, V, C, T) & entity(E, TX):\n",
    "    vtext = valuemap[V.bound]\n",
    "    list_id = ext(TX.bound, \"_0\")\n",
    "    list_value = attr(vtext, \"repr\")\n",
    "    der = []\n",
    "    parts = {}\n",
    "    whole = prov.entity(list_id, list_value, \"Dictionary\")\n",
    "    empty = prov.entity(\"e\" + list_id, \"{}\", \"EmptyDictionary\")\n",
    "    for key, vid in C.bound:\n",
    "        key = _unquote(key)\n",
    "        member = prov.entity(\n",
    "            list_id[:-1] + key + \"_\" + list_id[-1], \n",
    "            attr(valuemap[vid], \"repr\"), \"number\")\n",
    "        der.append((member, value_to_entity[vid]))\n",
    "        parts[key] = member\n",
    "    \n",
    "    prov.derivedByInsertionFrom(whole, empty, parts)\n",
    "    prov.activity(\"definelist\", der, generated=[whole])\n",
    "    marked.add(TX.bound)\n",
    "    \n",
    "            \n",
    "\n",
    "# Add unmarked PROV\n",
    "add_unmarked(marked, entity)\n",
    "add_unmarked(marked, activity)\n",
    "add_unmarked(marked, used)\n",
    "add_unmarked(marked, was_derived_from)\n",
    "add_unmarked(marked, was_generated_by)\n",
    "add_unmarked(marked, had_member)\n",
    "#print(\"\\n\".join(prov.RESULT))\n",
    "pprint(prov.stats(\"../mutable_prov/unfold/result\", \"provn svg\"))"
   ]
  },
  {
   "cell_type": "code",
   "execution_count": null,
   "metadata": {},
   "outputs": [],
   "source": [
    "marked"
   ]
  },
  {
   "cell_type": "code",
   "execution_count": null,
   "metadata": {
    "collapsed": true
   },
   "outputs": [],
   "source": []
  }
 ],
 "metadata": {
  "kernelspec": {
   "display_name": "Python 3",
   "language": "python",
   "name": "python3"
  },
  "language_info": {
   "codemirror_mode": {
    "name": "ipython",
    "version": 3
   },
   "file_extension": ".py",
   "mimetype": "text/x-python",
   "name": "python",
   "nbconvert_exporter": "python",
   "pygments_lexer": "ipython3",
   "version": "3.6.1"
  },
  "toc": {
   "nav_menu": {},
   "number_sections": true,
   "sideBar": true,
   "skip_h1_title": false,
   "title_cell": "Table of Contents",
   "title_sidebar": "Contents",
   "toc_cell": false,
   "toc_position": {},
   "toc_section_display": true,
   "toc_window_display": false
  }
 },
 "nbformat": 4,
 "nbformat_minor": 2
}
