{
 "cells": [
  {
   "cell_type": "code",
   "execution_count": 1,
   "metadata": {
    "collapsed": true
   },
   "outputs": [],
   "source": []
  },
  {
   "cell_type": "code",
   "execution_count": 51,
   "metadata": {},
   "outputs": [
    {
     "name": "stdout",
     "output_type": "stream",
     "text": [
      "# Versioned-PROV\n",
      "\n",
      "Versioned-PROV is a PROV extension that adds support for the provenance of mutable values through the timed-versioning of entities. This extension is useful to represent fine-grained provenance from scripts with multiple variables refering to the same data structures and nested data-structures.\n",
      "\n",
      "\n",
      "PROV does not properly support fine-grained provenance with mutable data structures due the assumption of immutable entities and their representation may become quite verbose. The PROV-Dictionary extension intends to provide data structures support for PROV, but it stills fails to accomodate the mutability of them. In this repository, we propose three new extensions to support the representation of mutable data structures in PROV: Mutable-PROV, Intertwined-PROV, and Versioned-PROV.\n",
      "\n",
      "*Plain PROV* suffers from two main problems: (P1) when a collection entity is changed, a new collection entity should be created, together with multiple new edges, connecting the new collection entity to the existing or new part entities; and (P2) when more than one variable is assigned to the same collection, and one of the variables changes, all other variables should also change, as they refer to the same memory area, meaning that a new entity should be created for each variable that contains the collection, together with edges for all part entities. Both problems lead to having many extra edges and nodes in the provenance graph.\n",
      "\n",
      "*PROV-Dictionary* solves the problem P1, but stil sufers from the problem P2.\n",
      "\n",
      "*Mutable-PROV* solved both problems, using PROV-Dictionary for solving P1 and versioning for solving P2. However, (P3) it added bidirectional or return edges and (P4) creates versions for all entities (including immutable elements).\n",
      "\n",
      "*Intertwined-PROV*, besides solving P1 and P2, also solves P3 by using interwined versioning (See Figure 7 of https://doi.org/10.1145/280277.280280). However, it still suffers from P4. All in all, it improves the management of complex entities (collections), but has some drawbacks on simple entities (literals and immutable variables).\n",
      "\n",
      "*Versioned-PROV* solves all four problems using a fine-grained versioning strategy. It does not use PROV-Dictionary.\n",
      "\n",
      "\n",
      "## Running Example\n",
      "\n",
      "To describe and evaluate the extension, we use the [Floyd-Warshall](https://github.com/dew-uff/mutable-prov/raw/master/algorithm.py) algorithm. This algorithm calculates the distance of the shortest path between all pairs of nodes in a weighted graph.\n",
      "\n",
      "By running the Floyd-Warshall in the graph below, and reading the distance between the nodes 0 and 2, it should output 3. By looking at graph, we can see that this path goes from node 0 to node 1 to node 2, instead of using the direct path from node 0 to node 2. However, the Floyd-Warshall algorithm only calculates the distance, and not the paths.\n",
      "\n",
      "[![Graph](https://github.com/dew-uff/mutable-prov/raw/master/images/graphs/graph.png)](https://github.com/dew-uff/mutable-prov/blob/master/images/graphs/graph.pdf)\n",
      "\n",
      "Due the nature of the algorithm, fine-grained provenance can assist in obtained the path. In Floyd-Warshall, considering the nodes `x`, `y`, and `z`, if the sum of the sub-paths `x -> y` and `y -> z` is smaller than the sum of the path `x -> z`, then it updates the value of the path `x -> z` by the sum. Thus, the provenance of the updated `x -> z` should indicate that it was composed by the sum of `x -> y` and `y -> z`.\n",
      "\n",
      "## Experiment\n",
      "\n",
      "For our experiment, we collected the provenance of Floyd-Warshall algorithm and mapped it to Plain PROV, PROV-Dictionary, Mutable-PROV, Intertwined-PROV, and Versioned-PROV. For descriptions of the mappings, please refer to:\n",
      "  - [Plain PROV Mapping](prov.md)\n",
      "  - [PROV-Dictionary Mapping](prov-dictionary.md)\n",
      "  - [Mutable-PROV Mapping](mutable-prov.md)\n",
      "  - [Intertwined-PROV Mapping](intertwined-prov.md)\n",
      "  - [Versioned-PROV Mapping](versioned-prov.md)\n",
      "\n",
      "\n",
      "The Plain PROV mapping produced the following graph:\n",
      "\n",
      "[![Floyd-Warshall in Plain PROV](https://github.com/dew-uff/mutable-prov/raw/master/images/plain_prov/floydwarshall.png)](https://github.com/dew-uff/mutable-prov/blob/master/images/plain_prov/floydwarshall.pdf)\n",
      "\n",
      "The PROV-Dictionary mapping produced the following graph:\n",
      "\n",
      "[![Floyd-Warshall in PROV-Dictionary](https://github.com/dew-uff/mutable-prov/raw/master/images/prov_dictionary/floydwarshall.png)](https://github.com/dew-uff/mutable-prov/blob/master/images/prov_dictionary/floydwarshall.pdf)\n",
      "\n",
      "The Mutable-PROV mapping produced the following graph:\n",
      "\n",
      "[![Floyd-Warshall in Mutable-PROV](https://github.com/dew-uff/mutable-prov/raw/master/images/mutable_prov/floydwarshall.png)](https://github.com/dew-uff/mutable-prov/blob/master/images/mutable_prov/floydwarshall.pdf)\n",
      "\n",
      "The Intertwined-PROV mapping produced the following graph:\n",
      "\n",
      "[![Floyd-Warshall in Intertwined-PROV](https://github.com/dew-uff/mutable-prov/raw/master/images/intertwined_prov/floydwarshall.png)](https://github.com/dew-uff/mutable-prov/blob/master/images/intertwined_prov/floydwarshall.pdf)\n",
      "\n",
      "The Versioned-PROV mapping produced the following graph:\n",
      "\n",
      "[![Floyd-Warshall in Versioned-PROV](https://github.com/dew-uff/mutable-prov/raw/master/images/versioned_prov/floydwarshall.png)](https://github.com/dew-uff/mutable-prov/blob/master/images/versioned_prov/floydwarshall.pdf)\n",
      "\n",
      "The following table presents the count of each node (entity, activity, value) and relationship (wasDerivedFrom, used, ...) definition in each approach.\n",
      "\n",
      "Approach|entity|activity|value|used|was<br>Derived<br>From|was<br>Generated<br>By|had<br>Member|had<br>Dictionary<br>Member|derived<br>By<br>Insertion<br>From|accessed<br>Part|accessed|defined|was<br>Defined<br>By|derived<br>By<br>Insertion|reference<br>Derived<br>From|reference<br>Derived<br>From<br>Access\n",
      "---|---|---|---|---|---|---|---|---|---|---|---|---|---|---|---|---\n",
      "PROV|242|212|0|488|244|232|126|0|0|0|0|0|0|0|0|0\n",
      "PROV-Dictionary|275|212|0|488|244|232|0|0|42|0|0|0|0|0|0|0\n",
      "Mutable-PROV|218|211|43|336|101|210|0|0|0|134|47|37|37|8|0|0\n",
      "Intertwined-PROV|270|211|0|476|54|210|0|15|3|0|0|0|0|0|44|137\n",
      "Versioned-PROV|224|211|0|476|54|210|0|0|0|0|0|0|0|8|44|137\n",
      "\n",
      "\n",
      "The figure below compares the elements of each approach. Note that Mutable-PROV reduces the number of PROV nodes and relationships in comparision to the other approaches, but it does impose an overhead with values and values relationships for all entities. Overall, the amount of elements in Mutable-PROV is comparable to the amount of elements in PROV-Dictionary in our example. Mutable-PROV has an advantage in algorithms with more data structure updates while PROV-Dictionary han an advantage in algorithms with more simple variables.\n",
      "\n",
      "\n",
      "\n",
      "\n",
      "[![Comparison of elements](https://github.com/dew-uff/mutable-prov/raw/master/images/graphs/comparison.png)](https://github.com/dew-uff/mutable-prov/blob/master/images/graphs/comparison.pdf)\n",
      "\n",
      "\n",
      "## Query\n",
      "\n",
      "As stated before, the access `result[0][2]` represents de distance of the shortest path between the node 0 and the node 2 in the graph. This access is represented by the entity `result_a020` in our mappings.\n",
      "The provenance query of this entity should indicate which other parts of the graph were used to construct the shortest path, thus indicating the path. The following figures present the query result in each mapping.\n",
      "\n",
      "The Plain PROV mapping produces the following query result:\n",
      "\n",
      "[![Query in Plain PROV](https://github.com/dew-uff/mutable-prov/raw/master/images/plain_prov/query.png)](https://github.com/dew-uff/mutable-prov/blob/master/images/plain_prov/query.pdf)\n",
      "\n",
      "The PROV-Dictionary mapping produces the following query result:\n",
      "\n",
      "[![Query in PROV-Dictionary](https://github.com/dew-uff/mutable-prov/raw/master/images/prov_dictionary/query.png)](https://github.com/dew-uff/mutable-prov/blob/master/images/prov_dictionary/query.pdf)\n",
      "\n",
      "The Mutable-PROV mapping produces the following query result:\n",
      "\n",
      "[![Query in Mutable-PROV](https://github.com/dew-uff/mutable-prov/raw/master/images/mutable_prov/query.png)](https://github.com/dew-uff/mutable-prov/blob/master/images/mutable_prov/query.pdf)\n",
      "\n",
      "\n",
      "\n",
      "The Versioned-PROV mapping produces the following query result:\n",
      "\n",
      "[![Query in Versioned-PROV](https://github.com/dew-uff/mutable-prov/raw/master/images/versioned_prov/query.png)](https://github.com/dew-uff/mutable-prov/blob/master/images/versioned_prov/query.pdf)\n",
      "\n",
      "Querying with Mutable-PROV, Intertwined-PROV, and Versioned-PROV are harder than querying with Plain PROV, and PROV-Dictionary, since the former mappings may include cycles and requires navigating through different edges. However, these mappings allow better derivation queries, by identifing that an entity that was generated as a part of a data structure was derived from the data structure, without deriving from the other parts of the data structure. Due the lack of support for this kind of derivation in Plain PROV and PROV-Dictionary, we opted to omit membership derivations in the first two figures of this section.\n",
      "\n",
      "## Unfold\n",
      "\n",
      "As stated before, the Versioned-PROV mapping produces less nodes for the Floyd-Warshall algorithm and supports more meaningful queries. However, it is complete enough to be unfolded into the Plain PROV mapping. If membership querying is not required, unfolding the Versioned-PROV mapping may be a good option to improve the performance of queries, since Plain PROV is a DAG.\n",
      "\n",
      "\n",
      "## Development\n",
      "\n",
      "We use [Jupyter Notebooks](https://github.com/dew-uff/mutable-PROV/tree/master/notebooks) with [Python 3.6](https://www.python.org/), [pandas](https://pandas.pydata.org/), [NumPy](http://www.numpy.org/), [Matplotlib](https://matplotlib.org/), and [Graphviz](https://www.graphviz.org/) to generate image files.\n",
      "\n",
      "For parsing PROV-N files and generating customized `.dot` files with support to the extensions, we use the [Lark parser](https://github.com/erezsh/lark).\n",
      "\n",
      "Thus, for running the files, please install Python 3.6 and Graphviz, and run:\n",
      "```\n",
      "pip install jupyter lark-parser pandas numpy matplotlib\n",
      "```\n",
      "\n",
      "To simplify the process of updating readme files, we have markdown files in the [source directory](https://github.com/dew-uff/mutable-prov/raw/master/source) with special tags to link and load files.\n",
      "\n",
      "For updating the project markdowns, please edit the files in the [source directory](https://github.com/dew-uff/mutable-prov/raw/master/source) and run:\n",
      "```\n",
      "python build.py\n",
      "```\n"
     ]
    }
   ],
   "source": [
    "\n",
    "\n",
    "\n",
    "\n",
    "with open(\"../source/README.md\", \"r\") as f:\n",
    "    text = f.read()\n",
    "\n",
    "\n",
    "print(all_replaces(text))"
   ]
  },
  {
   "cell_type": "code",
   "execution_count": 53,
   "metadata": {},
   "outputs": [
    {
     "data": {
      "text/plain": [
       "['../source\\\\intertwined-prov.md',\n",
       " '../source\\\\mutable-prov.md',\n",
       " '../source\\\\prov-dictionary.md',\n",
       " '../source\\\\prov.md',\n",
       " '../source\\\\README.md',\n",
       " '../source\\\\versioned-prov.md']"
      ]
     },
     "execution_count": 53,
     "metadata": {},
     "output_type": "execute_result"
    }
   ],
   "source": [
    "import glob\n",
    "glob.glob('../source/*.md')"
   ]
  },
  {
   "cell_type": "code",
   "execution_count": 55,
   "metadata": {},
   "outputs": [
    {
     "name": "stdout",
     "output_type": "stream",
     "text": [
      "intertwined-prov.md ..\\source\n",
      "mutable-prov.md ..\\source\n",
      "prov-dictionary.md ..\\source\n",
      "prov.md ..\\source\n",
      "README.md ..\\source\n",
      "versioned-prov.md ..\\source\n"
     ]
    }
   ],
   "source": []
  },
  {
   "cell_type": "code",
   "execution_count": null,
   "metadata": {
    "collapsed": true
   },
   "outputs": [],
   "source": []
  }
 ],
 "metadata": {
  "kernelspec": {
   "display_name": "Python 3",
   "language": "python",
   "name": "python3"
  },
  "language_info": {
   "codemirror_mode": {
    "name": "ipython",
    "version": 3
   },
   "file_extension": ".py",
   "mimetype": "text/x-python",
   "name": "python",
   "nbconvert_exporter": "python",
   "pygments_lexer": "ipython3",
   "version": "3.6.1"
  },
  "toc": {
   "nav_menu": {},
   "number_sections": true,
   "sideBar": true,
   "skip_h1_title": false,
   "title_cell": "Table of Contents",
   "title_sidebar": "Contents",
   "toc_cell": false,
   "toc_position": {},
   "toc_section_display": true,
   "toc_window_display": false
  }
 },
 "nbformat": 4,
 "nbformat_minor": 2
}
