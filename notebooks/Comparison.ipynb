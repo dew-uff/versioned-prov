{
 "cells": [
  {
   "cell_type": "code",
   "execution_count": null,
   "metadata": {
    "collapsed": true
   },
   "outputs": [],
   "source": [
    "import sys\n",
    "sys.path.insert(0, '..')\n",
    "\n",
    "%load_ext prov_magics\n",
    "import provn\n",
    "import mutable_prov"
   ]
  },
  {
   "cell_type": "markdown",
   "metadata": {},
   "source": [
    "# Comparison\n",
    "\n",
    "In this document, we compare PROV, PROV-Dictionary and Versioned-PROV\n",
    "\n",
    "\n",
    "## List Definition\n",
    "\n",
    "For the list `[1, 2, 1]`, we have 2 entities to represent the literals `1` and `2` in all mappings:\n",
    "```\n",
    "entity(1, [value=\"1\", type=\"name\", generatedAtTime=\"T1\"]) \n",
    "entity(2, [value=\"2\", type=\"name\", generatedAtTime=\"T2\"])\n",
    "```\n",
    "Note that `generatedAtTime` is an optional prov attribute, but it is advisable to use it in Versioned-PROV. Thus, we represent all entities with this attribute. \n",
    "\n",
    "\n",
    "Besides these 2 entities, all mappings have an entity to represent the list definition itself, but the `type` attribute of the mappings change. In PROV and Versioned-PROV, the `type` must be a `prov:Collection`. In PROV-Dictionary, the `type` must be a `prov:Dictionary`. Note that all entity types that we use in the `script` namespace that we use in the examples (except `script:literal`, and `script:constant`) are subtype of `prov:Collection`, even when they do not represent collections. \n",
    "```\n",
    "entity(list, [value=\"[1, 2, 1]\", type=\"X\", label=\"[1, 2, 1]\", generatedAtTime=\"T3\"])\n",
    "```\n",
    "\n",
    "Versioned-PROV is capable of defining list elements \n"
   ]
  },
  {
   "cell_type": "code",
   "execution_count": null,
   "metadata": {
    "collapsed": true
   },
   "outputs": [],
   "source": [
    "CODE = `[1, 2, 1]`\n",
    "\n",
    "entity(1, [value=\"1\", type=\"name\"]) \n",
    "entity(2, [value=\"2\", type=\"name\"])\n",
    "\n",
    "entity(list, [value=\"[1, 2, 1]\", type=\"Dictionary\", label=\"[1, 2, 1]\"])\n",
    "activity(definelist1, [type=\"definelist\"])\n",
    "wasGeneratedBy(list, definelist1, -)\n",
    "\n",
    "for index, (valu) in list:\n",
    "    entity(list{index}, [value=\"{element.eval}\", type=\"item\", label=\"{element.label}\"])\n",
    "    \n",
    "    \n",
    "    used(u4; definelist1, m, -)\n",
    "    wasGeneratedBy(g4; list0, definelist1, -)\n",
    "    wasDerivedFrom(list0, m, definelist1, g4, u4)\n",
    "    \n",
    "entity(list0, [value=\"1\", type=\"item\", label=\"1\"])\n",
    "entity(list1, [value=\"2\", type=\"item\", label=\"2\"])\n",
    "entity(list2, [value=\"1\", type=\"item\", label=\"1\"])\n",
    "\n",
    "\n",
    "\n",
    "hadMember(list, list0)\n",
    "hadMember(list, list1)\n",
    "hadMember(list, list2)\n",
    "\n",
    "\n",
    "used(u5; definelist1, sum, -)\n",
    "wasGeneratedBy(g5; list1, definelist1, -)\n",
    "wasDerivedFrom(list1, sum, definelist1, g5, u5)\n",
    "used(u6; definelist1, m, -)\n",
    "wasGeneratedBy(g6; list2, definelist1, -)\n",
    "wasDerivedFrom(list2, m, definelist1, g6, u6)\n"
   ]
  }
 ],
 "metadata": {
  "kernelspec": {
   "display_name": "Python 3",
   "language": "python",
   "name": "python3"
  },
  "language_info": {
   "codemirror_mode": {
    "name": "ipython",
    "version": 3
   },
   "file_extension": ".py",
   "mimetype": "text/x-python",
   "name": "python",
   "nbconvert_exporter": "python",
   "pygments_lexer": "ipython3",
   "version": "3.6.1"
  },
  "toc": {
   "nav_menu": {},
   "number_sections": true,
   "sideBar": true,
   "skip_h1_title": false,
   "title_cell": "Table of Contents",
   "title_sidebar": "Contents",
   "toc_cell": false,
   "toc_position": {},
   "toc_section_display": true,
   "toc_window_display": false
  }
 },
 "nbformat": 4,
 "nbformat_minor": 2
}
