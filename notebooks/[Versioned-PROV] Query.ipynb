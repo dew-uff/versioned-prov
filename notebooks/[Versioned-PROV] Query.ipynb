{
 "cells": [
  {
   "cell_type": "code",
   "execution_count": 1,
   "metadata": {},
   "outputs": [],
   "source": [
    "import sys\n",
    "sys.path.insert(0, '../tools')\n",
    "\n",
    "%load_ext prov_magics\n",
    "import versioned_prov\n",
    "from qversioned_prov import *"
   ]
  },
  {
   "cell_type": "code",
   "execution_count": null,
   "metadata": {
    "scrolled": true
   },
   "outputs": [],
   "source": [
    "querier.load(\"../versioned_prov/floydwarshall.provn\");"
   ]
  },
  {
   "cell_type": "code",
   "execution_count": null,
   "metadata": {},
   "outputs": [],
   "source": [
    "def get_original_reference(ref, result=None):\n",
    "    D, TX, TX2 = var(3)\n",
    "    if result is None:\n",
    "        result = set()\n",
    "    first = False\n",
    "    while not first:\n",
    "        first = True\n",
    "        query = [(D.bound, TX.bound, TX2.bound) for _ in reference_derived_from(ref, D, text=TX) & entity(D, text=TX2)]\n",
    "        if query:\n",
    "            ref, text, text2 = query[0]\n",
    "            result.add(text)\n",
    "            result.add(text2)\n",
    "            first = False\n",
    "    return ref, result\n",
    "get_original_reference(\"result\")"
   ]
  },
  {
   "cell_type": "code",
   "execution_count": null,
   "metadata": {},
   "outputs": [],
   "source": [
    "D, T, TX, TX2 = var(4)\n",
    "[T.bound for _ in entity(\"result\", T)][0]"
   ]
  },
  {
   "cell_type": "code",
   "execution_count": null,
   "metadata": {},
   "outputs": [],
   "source": [
    "from collections import namedtuple\n",
    "from copy import copy\n",
    "from pprint import pprint\n",
    "\n",
    "Context = namedtuple(\"Context\", \"type to_parts moment\")\n",
    "\n",
    "\n",
    "def neighborhood(context):\n",
    "    n, move_to_parts, time = context\n",
    "    \n",
    "    _ = BLANK\n",
    "    A, C, D, T, U, W, TX, TX2, TX3, TX4 = var(\"A C D T U W TX TX2 TX3 TX4\")\n",
    "    \n",
    "    # If time is not in the context, get it from the entity\n",
    "    if not time:\n",
    "        time = [T.bound for _ in entity(n, T)][0]\n",
    "\n",
    "    # Follow default derivations\n",
    "    query = (\n",
    "        was_derived_from(n, D, _, _, _, TX)\n",
    "        & entity(D, _, TX2)\n",
    "    )\n",
    "    for __ in query:\n",
    "        yield Context(D.bound, True, None), {TX.bound, TX2.bound}\n",
    "    \n",
    "    query = (\n",
    "        reference_derived_from(n, D, _, _, _, _, TX)\n",
    "        & entity(D, A, TX2)\n",
    "    )\n",
    "    for __ in query:\n",
    "        yield Context(D.bound, move_to_parts, None), {TX.bound, TX2.bound} \n",
    "        \n",
    "    # Move to whole\n",
    "    # ToDO? Use used_part in the whole\n",
    "    # Part access:\n",
    "    query = (\n",
    "        reference_derived_from(n, D, A, _, U, T)\n",
    "        & used_part(U, A, D, _, W, _, TX)\n",
    "        & used(_, A, W, _, TX2)\n",
    "        & activity(A, _, _, TX3)\n",
    "        & entity(W, _, TX4)\n",
    "    )\n",
    "    for __ in query:\n",
    "        yield Context(W.bound, False, T.bound), {x.bound for x in [TX, TX2, TX3, TX4]}\n",
    "        \n",
    "    query = (\n",
    "        part_generated_by(_, n, A, T, W, _, TX)\n",
    "        & used(_, A, W, _, TX2)\n",
    "        & activity(A, _, _, TX3)\n",
    "        & entity(W, _, TX4)\n",
    "    )\n",
    "    for __ in query:\n",
    "        yield Context(W.bound, False, T.bound), {x.bound for x in [TX, TX2, TX3, TX4]}\n",
    "    \n",
    "    if move_to_parts:\n",
    "        # Get initial reference to value\n",
    "        original, result = get_original_reference(n)\n",
    "\n",
    "        # Move to all parts of the structure \n",
    "        # Sort derivedByInsertion\n",
    "        parts = [\n",
    "            (T.bound, C.bound, TX.bound)\n",
    "            for __ in derived_by_insertion(n, C, T, TX)\n",
    "            if T.bound <= time\n",
    "        ]\n",
    "        parts.sort()\n",
    "        # Reconstruct state\n",
    "        state = {}\n",
    "        for __, changes, text in parts:\n",
    "            for key, value in changes.items():\n",
    "                state[key] = (value, text)\n",
    "        # Move to parts of the state\n",
    "        for value, text in state.values():\n",
    "            yield (Context(value, True, time), result + {text})\n",
    "            \n",
    "                \n",
    "            \n",
    "def dfs(ent, neigh):\n",
    "    context = Context(ent, True, None)\n",
    "    stack = [context]\n",
    "    visited = set()\n",
    "    TX = var(\"text\")\n",
    "    result = {TX.bound for __ in entity(ent, BLANK, TX)} \n",
    "    print(result)\n",
    "    while stack:\n",
    "        context = stack.pop()\n",
    "        for other, tresult in neigh(context):\n",
    "            print(\"\\n\".join(tresult))\n",
    "            if other not in visited:\n",
    "                visited.add(other)\n",
    "                result |= tresult\n",
    "                stack.append(other)\n",
    "    return result\n",
    "\n"
   ]
  },
  {
   "cell_type": "code",
   "execution_count": null,
   "metadata": {},
   "outputs": [],
   "source": [
    "view = \"provn png svg pdf\"\n",
    "get_ipython().run_cell_magic(\n",
    "    \"provn\",\n",
    "    \"-o {} -e {} -r RL\".format(\"../mutable_prov/query\", view),\n",
    "    '\\n'.join(dfs(\"result_a02\", neighborhood))\n",
    ")"
   ]
  },
  {
   "cell_type": "code",
   "execution_count": null,
   "metadata": {
    "collapsed": true
   },
   "outputs": [],
   "source": [
    "x = set()\n"
   ]
  },
  {
   "cell_type": "code",
   "execution_count": null,
   "metadata": {
    "collapsed": true
   },
   "outputs": [],
   "source": [
    "x.add?"
   ]
  },
  {
   "cell_type": "code",
   "execution_count": null,
   "metadata": {
    "collapsed": true
   },
   "outputs": [],
   "source": []
  }
 ],
 "metadata": {
  "kernelspec": {
   "display_name": "Python 3",
   "language": "python",
   "name": "python3"
  },
  "language_info": {
   "codemirror_mode": {
    "name": "ipython",
    "version": 3
   },
   "file_extension": ".py",
   "mimetype": "text/x-python",
   "name": "python",
   "nbconvert_exporter": "python",
   "pygments_lexer": "ipython3",
   "version": "3.6.1"
  },
  "toc": {
   "nav_menu": {},
   "number_sections": true,
   "sideBar": true,
   "skip_h1_title": false,
   "title_cell": "Table of Contents",
   "title_sidebar": "Contents",
   "toc_cell": false,
   "toc_position": {},
   "toc_section_display": true,
   "toc_window_display": false
  }
 },
 "nbformat": 4,
 "nbformat_minor": 2
}
